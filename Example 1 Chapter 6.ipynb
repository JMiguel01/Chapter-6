{
 "cells": [
  {
   "cell_type": "code",
   "execution_count": 1,
   "id": "55eae079",
   "metadata": {},
   "outputs": [],
   "source": [
    "from sympy import symbols, Matrix, pprint, collect, factor\n",
    "from itertools import accumulate\n",
    "import itertools\n",
    "x = []\n",
    "name = \"x\"\n",
    "for i in range(1,5):\n",
    "    v = symbols(name+str(i))\n",
    "    x.append(v)\n",
    "\n",
    "A1 = Matrix([[1, 0, 0],[0, 1, 0],[0, 0, 0]])\n",
    "A2 = Matrix([[0, 0, 0],[0, 0, 1],[0, 0, 0]])\n",
    "A3 = Matrix([[0, 0, 0],[0, 0, 0],[0,0,1]])\n",
    "\n",
    "MT = [A1,A2,A3]\n",
    "\n",
    "E1 = Matrix([[1, 0],[0, 0]])\n",
    "E2 = Matrix([[0, 1],[0, 0]])\n",
    "E3 = Matrix([[0, 0],[0, 1]])\n",
    "\n",
    "beta = [E1,E2,E3]\n",
    "\n",
    "MatrixA1 = {}\n",
    "for i in range(3):\n",
    "    for j in range(3):\n",
    "        if (i == 0):\n",
    "            MatrixA1[i,j] = A1[i+j]\n",
    "        if (i == 1):\n",
    "             MatrixA1[i,j] = A1[2+i+j]\n",
    "        if (i == 2):\n",
    "             MatrixA1[i,j] = A1[4+i+j]\n",
    "MatrixA2 = {}\n",
    "for i in range(3):\n",
    "    for j in range(3):\n",
    "        if (i == 0):\n",
    "            MatrixA2[i,j] = A2[i+j]\n",
    "        if (i == 1):\n",
    "             MatrixA2[i,j] = A2[2+i+j]\n",
    "        if (i == 2):\n",
    "             MatrixA2[i,j] = A2[4+i+j]\n",
    "MatrixA3 = {}\n",
    "for i in range(3):\n",
    "    for j in range(3):\n",
    "        if (i == 0):\n",
    "            MatrixA3[i,j] = A3[i+j]\n",
    "        if (i == 1):\n",
    "             MatrixA3[i,j] = A3[2+i+j]\n",
    "        if (i == 2):\n",
    "             MatrixA3[i,j] = A3[4+i+j]\n",
    "\n",
    "x = []\n",
    "name = \"x\"\n",
    "for i in range(1,4):\n",
    "    v = symbols(name+str(i))\n",
    "    x.append(v)\n",
    "MT1 = [MatrixA1,MatrixA2,MatrixA3]"
   ]
  },
  {
   "cell_type": "code",
   "execution_count": 2,
   "id": "877b08ff",
   "metadata": {},
   "outputs": [],
   "source": [
    "from operator import*\n",
    "def functionZ(A):\n",
    "    s1 = []\n",
    "    s2 = []\n",
    "    for i in range(len(A)):\n",
    "        for k in range(len(A)):\n",
    "            for m in range(len(A)):\n",
    "                s1.append((A[m][k,i]- A[i][k,m])*x[m])                                \n",
    "    Input = s1\n",
    "    split = len(s1) / 3\n",
    "    length_to_split = [] #3, 3, 3, 3, 3, 3, 3, 3, 3\n",
    "    for i in range(int(split)):\n",
    "          length_to_split.append(3)\n",
    "    Output = [Input[x - y: x] for x, y in zip(accumulate(length_to_split), length_to_split)]\n",
    "    s4 = []\n",
    "    for i in range(len(Output)):\n",
    "        s3 = sum(Output[i])\n",
    "        s4.append(s3)\n",
    "    return(s4)"
   ]
  },
  {
   "cell_type": "code",
   "execution_count": 3,
   "id": "b3ec504a",
   "metadata": {},
   "outputs": [
    {
     "data": {
      "text/plain": [
       "[0, -x2, 0, 0, x1 - x3, 0, 0, x2, 0]"
      ]
     },
     "execution_count": 3,
     "metadata": {},
     "output_type": "execute_result"
    }
   ],
   "source": [
    "functionZ(MT1)"
   ]
  },
  {
   "cell_type": "code",
   "execution_count": 4,
   "id": "239e9c5d",
   "metadata": {},
   "outputs": [],
   "source": [
    "# importing Qiskit\n",
    "from qiskit import IBMQ, Aer\n",
    "from qiskit.providers.ibmq import least_busy\n",
    "from qiskit import QuantumCircuit, QuantumRegister, ClassicalRegister, transpile, assemble\n",
    "\n",
    "# import basic plot tools\n",
    "from qiskit.visualization import plot_histogram"
   ]
  },
  {
   "cell_type": "code",
   "execution_count": null,
   "id": "a7784523",
   "metadata": {},
   "outputs": [],
   "source": []
  }
 ],
 "metadata": {
  "kernelspec": {
   "display_name": "Python 3 (ipykernel)",
   "language": "python",
   "name": "python3"
  },
  "language_info": {
   "codemirror_mode": {
    "name": "ipython",
    "version": 3
   },
   "file_extension": ".py",
   "mimetype": "text/x-python",
   "name": "python",
   "nbconvert_exporter": "python",
   "pygments_lexer": "ipython3",
   "version": "3.9.7"
  }
 },
 "nbformat": 4,
 "nbformat_minor": 5
}
