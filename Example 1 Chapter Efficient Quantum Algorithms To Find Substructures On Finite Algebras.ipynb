{
 "cells": [
  {
   "cell_type": "code",
   "execution_count": 1,
   "id": "ea05335a",
   "metadata": {},
   "outputs": [
    {
     "data": {
      "text/plain": [
       "[0, -x2, 0, 0, x1 - x3, 0, 0, x2, 0]"
      ]
     },
     "execution_count": 1,
     "metadata": {},
     "output_type": "execute_result"
    }
   ],
   "source": [
    "from sympy import symbols, Matrix, pprint, collect, factor\n",
    "from itertools import accumulate\n",
    "import itertools\n",
    "from operator import*\n",
    "x = []\n",
    "name = \"x\"\n",
    "for i in range(1,5):\n",
    "    v = symbols(name+str(i))\n",
    "    x.append(v)\n",
    "\n",
    "A1 = Matrix([[1, 0, 0],[0, 1, 0],[0, 0, 0]])\n",
    "A2 = Matrix([[0, 0, 0],[0, 0, 1],[0, 0, 0]])\n",
    "A3 = Matrix([[0, 0, 0],[0, 0, 0],[0,0,1]])\n",
    "\n",
    "MT = [A1,A2,A3]\n",
    "\n",
    "E1 = Matrix([[1, 0],[0, 0]])\n",
    "E2 = Matrix([[0, 1],[0, 0]])\n",
    "E3 = Matrix([[0, 0],[0, 1]])\n",
    "\n",
    "beta = [E1,E2,E3]\n",
    "\n",
    "MatrixA1 = {}\n",
    "for i in range(3):\n",
    "    for j in range(3):\n",
    "        if (i == 0):\n",
    "            MatrixA1[i,j] = A1[i+j]\n",
    "        if (i == 1):\n",
    "             MatrixA1[i,j] = A1[2+i+j]\n",
    "        if (i == 2):\n",
    "             MatrixA1[i,j] = A1[4+i+j]\n",
    "MatrixA2 = {}\n",
    "for i in range(3):\n",
    "    for j in range(3):\n",
    "        if (i == 0):\n",
    "            MatrixA2[i,j] = A2[i+j]\n",
    "        if (i == 1):\n",
    "             MatrixA2[i,j] = A2[2+i+j]\n",
    "        if (i == 2):\n",
    "             MatrixA2[i,j] = A2[4+i+j]\n",
    "MatrixA3 = {}\n",
    "for i in range(3):\n",
    "    for j in range(3):\n",
    "        if (i == 0):\n",
    "            MatrixA3[i,j] = A3[i+j]\n",
    "        if (i == 1):\n",
    "             MatrixA3[i,j] = A3[2+i+j]\n",
    "        if (i == 2):\n",
    "             MatrixA3[i,j] = A3[4+i+j]\n",
    "\n",
    "x = []\n",
    "name = \"x\"\n",
    "for i in range(1,4):\n",
    "    v = symbols(name+str(i))\n",
    "    x.append(v)\n",
    "MT1 = [MatrixA1,MatrixA2,MatrixA3]\n",
    "a = x[0]*E1+x[1]*E2+x[2]*E3\n",
    "\n",
    "e = []\n",
    "name = \"e\"\n",
    "for i in range(1,4):\n",
    "    v = symbols(name+str(i))\n",
    "    e.append(v)\n",
    "\n",
    "def functionZ(A):\n",
    "    s1 = []\n",
    "    s2 = []\n",
    "    for i in range(len(A)):\n",
    "        for k in range(len(A)):\n",
    "            for m in range(len(A)):\n",
    "                s1.append((A[m][k,i]- A[i][k,m])*x[m])                                \n",
    "    Input = s1\n",
    "    split = len(s1) / 3\n",
    "    length_to_split = [] #3, 3, 3, 3, 3, 3, 3, 3, 3\n",
    "    for i in range(int(split)):\n",
    "          length_to_split.append(3)\n",
    "    Output = [Input[x - y: x] for x, y in zip(accumulate(length_to_split), length_to_split)]\n",
    "    s4 = []\n",
    "    for i in range(len(Output)):\n",
    "        s3 = sum(Output[i])\n",
    "        s4.append(s3)\n",
    "    return(s4)\n",
    "functionZ(MT1)"
   ]
  },
  {
   "cell_type": "code",
   "execution_count": 2,
   "id": "6f7c8ede",
   "metadata": {},
   "outputs": [],
   "source": [
    "# importing Qiskit\n",
    "from qiskit import IBMQ, Aer\n",
    "from qiskit.providers.ibmq import least_busy\n",
    "from qiskit import QuantumCircuit, QuantumRegister, ClassicalRegister, transpile, assemble\n",
    "\n",
    "# import basic plot tools\n",
    "from qiskit.visualization import plot_histogram"
   ]
  },
  {
   "cell_type": "code",
   "execution_count": 3,
   "id": "03c52484",
   "metadata": {},
   "outputs": [
    {
     "data": {
      "text/html": [
       "<pre style=\"word-wrap: normal;white-space: pre;background: #fff0;line-height: 1.1;font-family: &quot;Courier New&quot;,Courier,monospace\">      ┌───┐ ░                 ░ ┌───┐┌─┐      \n",
       "q0_0: ┤ H ├─░────────■────────░─┤ H ├┤M├──────\n",
       "      ├───┤ ░        │        ░ ├───┤└╥┘┌─┐   \n",
       "q0_1: ┤ H ├─░───■────┼────────░─┤ H ├─╫─┤M├───\n",
       "      ├───┤ ░   │    │        ░ ├───┤ ║ └╥┘┌─┐\n",
       "q0_2: ┤ H ├─░───┼────┼────■───░─┤ H ├─╫──╫─┤M├\n",
       "      └───┘ ░ ┌─┴─┐  │    │   ░ └───┘ ║  ║ └╥┘\n",
       "q1_0: ────────┤ X ├──┼────┼───────────╫──╫──╫─\n",
       "              └───┘┌─┴─┐┌─┴─┐         ║  ║  ║ \n",
       "q1_1: ─────────────┤ X ├┤ X ├─────────╫──╫──╫─\n",
       "                   └───┘└───┘         ║  ║  ║ \n",
       "c0: 3/════════════════════════════════╩══╩══╩═\n",
       "                                      0  1  2 </pre>"
      ],
      "text/plain": [
       "      ┌───┐ ░                 ░ ┌───┐┌─┐      \n",
       "q0_0: ┤ H ├─░────────■────────░─┤ H ├┤M├──────\n",
       "      ├───┤ ░        │        ░ ├───┤└╥┘┌─┐   \n",
       "q0_1: ┤ H ├─░───■────┼────────░─┤ H ├─╫─┤M├───\n",
       "      ├───┤ ░   │    │        ░ ├───┤ ║ └╥┘┌─┐\n",
       "q0_2: ┤ H ├─░───┼────┼────■───░─┤ H ├─╫──╫─┤M├\n",
       "      └───┘ ░ ┌─┴─┐  │    │   ░ └───┘ ║  ║ └╥┘\n",
       "q1_0: ────────┤ X ├──┼────┼───────────╫──╫──╫─\n",
       "              └───┘┌─┴─┐┌─┴─┐         ║  ║  ║ \n",
       "q1_1: ─────────────┤ X ├┤ X ├─────────╫──╫──╫─\n",
       "                   └───┘└───┘         ║  ║  ║ \n",
       "c0: 3/════════════════════════════════╩══╩══╩═\n",
       "                                      0  1  2 "
      ]
     },
     "execution_count": 3,
     "metadata": {},
     "output_type": "execute_result"
    }
   ],
   "source": [
    "qreg = QuantumRegister(3)\n",
    "creg = ClassicalRegister(3)\n",
    "ancillary = QuantumRegister(2)\n",
    "\n",
    "\n",
    "qc = QuantumCircuit(qreg, ancillary, creg)\n",
    "\n",
    "qc.h(range(3))\n",
    "\n",
    "qc.barrier(qreg)\n",
    "\n",
    "qc.cx(qreg[1],ancillary[0])\n",
    "qc.cx(qreg[0],ancillary[1])\n",
    "qc.cx(qreg[2],ancillary[1])\n",
    "\n",
    "qc.barrier(qreg)\n",
    "\n",
    "qc.h(range(3))\n",
    "\n",
    "qc.measure(qreg[0],creg[0])\n",
    "qc.measure(qreg[1],creg[1])\n",
    "qc.measure(qreg[2],creg[2])\n",
    "\n",
    "qc.draw()"
   ]
  },
  {
   "cell_type": "code",
   "execution_count": 4,
   "id": "94f2c25d",
   "metadata": {},
   "outputs": [
    {
     "name": "stdout",
     "output_type": "stream",
     "text": [
      "{'010': 5, '101': 3, '111': 1, '000': 1}\n"
     ]
    },
    {
     "data": {
      "image/png": "[encoded data removed]",
      "text/plain": [
       "<Figure size 504x360 with 1 Axes>"
      ]
     },
     "execution_count": 4,
     "metadata": {},
     "output_type": "execute_result"
    }
   ],
   "source": [
    "aer_sim = Aer.get_backend('aer_simulator')\n",
    "transpiled_qc = transpile(qc, aer_sim)\n",
    "qobj = assemble(transpiled_qc)\n",
    "results = aer_sim.run(qobj,shots =10).result()\n",
    "counts = results.get_counts()\n",
    "print(counts)\n",
    "plot_histogram(counts)"
   ]
  },
  {
   "cell_type": "code",
   "execution_count": null,
   "id": "7da163f3",
   "metadata": {},
   "outputs": [],
   "source": []
  }
 ],
 "metadata": {
  "kernelspec": {
   "display_name": "Python 3 (ipykernel)",
   "language": "python",
   "name": "python3"
  },
  "language_info": {
   "codemirror_mode": {
    "name": "ipython",
    "version": 3
   },
   "file_extension": ".py",
   "mimetype": "text/x-python",
   "name": "python",
   "nbconvert_exporter": "python",
   "pygments_lexer": "ipython3",
   "version": "3.9.7"
  }
 },
 "nbformat": 4,
 "nbformat_minor": 5
}
