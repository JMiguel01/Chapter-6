{
 "cells": [
  {
   "cell_type": "code",
   "execution_count": 1,
   "id": "110b98e3",
   "metadata": {},
   "outputs": [],
   "source": [
    "from sympy import symbols, Matrix, pprint, collect, factor\n",
    "import itertools\n",
    "# importing Qiskit\n",
    "from qiskit import IBMQ, Aer\n",
    "from qiskit.providers.ibmq import least_busy\n",
    "from qiskit import QuantumCircuit, QuantumRegister, ClassicalRegister, transpile, assemble\n",
    "# import basic plot tools\n",
    "from qiskit.visualization import plot_histogram\n",
    "aer_sim = Aer.get_backend('aer_simulator')\n",
    "\n",
    "x1, x2, x3, x4 = symbols('x1, x2, x3, x4')\n",
    "x = []\n",
    "name = \"x\"\n",
    "for i in range(1,5):\n",
    "    v = symbols(name+str(i))\n",
    "    x.append(v)\n",
    "\n",
    "MA1 = Matrix([[0, 0, 0, 0],[0, 0, 0, 0],[0, 0, 0, 0],[0, 0, 0, 0]])\n",
    "MA2 = Matrix([[0, 0, 0, 0],[0, 0, 1, 0],[0, 0, 0, 0],[0, 0, 0, 0]])\n",
    "MA3 = Matrix([[0, 0, 0, 0],[0, 0, 0, 0],[0, 0, 0, 0],[0, 0, 0, 0]])\n",
    "MA4 = Matrix([[0, 0, 0, 0],[0, 0, 0, 0],[0, 0, 0, 0],[0, 0, 0, 0]])\n",
    "\n",
    "def matrices(A1,A2,A3,A4):\n",
    "    MatrixAA1 = {}\n",
    "    for i in range(4):\n",
    "        for j in range(4):\n",
    "            if (i == 0):\n",
    "                MatrixAA1[i,j] = A1[i+j]\n",
    "            if (i == 1):\n",
    "                 MatrixAA1[i,j] = A1[3+i+j]\n",
    "            if (i == 2):\n",
    "                 MatrixAA1[i,j] = A1[6+i+j]\n",
    "            if (i == 3):\n",
    "                MatrixAA1[i,j] = A1[9+i+j]\n",
    "    MatrixAA2 = {}\n",
    "    for i in range(4):\n",
    "        for j in range(4):\n",
    "            if (i == 0):\n",
    "                MatrixAA2[i,j] = A2[i+j]\n",
    "            if (i == 1):\n",
    "                 MatrixAA2[i,j] = A2[3+i+j]\n",
    "            if (i == 2):\n",
    "                 MatrixAA2[i,j] = A2[6+i+j]\n",
    "            if (i == 3):\n",
    "                MatrixAA2[i,j] = A2[9+i+j]\n",
    "    MatrixAA3 = {}\n",
    "    for i in range(4):\n",
    "        for j in range(4):\n",
    "            if (i == 0):\n",
    "                MatrixAA3[i,j] = A3[i+j]\n",
    "            if (i == 1):\n",
    "                 MatrixAA3[i,j] = A3[3+i+j]\n",
    "            if (i == 2):\n",
    "                 MatrixAA3[i,j] = A3[6+i+j]\n",
    "            if (i == 3):\n",
    "                MatrixAA3[i,j] = A3[9+i+j]\n",
    "    MatrixAA4 = {}\n",
    "    for i in range(4):\n",
    "        for j in range(4):\n",
    "            if (i == 0):\n",
    "                MatrixAA4[i,j] = A4[i+j]\n",
    "            if (i == 1):\n",
    "                MatrixAA4[i,j] = A4[3+i+j]\n",
    "            if (i == 2):\n",
    "                MatrixAA4[i,j] = A4[6+i+j]\n",
    "            if (i == 3):\n",
    "                MatrixAA4[i,j] = A4[9+i+j]\n",
    "    MMT = [MatrixAA1,MatrixAA2,MatrixAA3,MatrixAA4]\n",
    "    return(MMT)\n",
    "def Selecting(X):\n",
    "    x1, x2, x3, x4 = symbols('x1, x2, x3, x4')\n",
    "    X1 = []\n",
    "    for i in range(len(X)):\n",
    "        if (X[i] != 0):\n",
    "            X1.append(X[i])\n",
    "    return(X1)\n",
    "def Equations(First):\n",
    "    BB31= First\n",
    "    Pl1 =[]\n",
    "    for i in range(len(BB31)):\n",
    "        Pl1.append(dict(BB31[i].as_coefficients_dict()))\n",
    "        #print(BB31)\n",
    "    ##Symplify computations of coefficients module 2\n",
    "    EQ1 =[]\n",
    "    for l in range(len(Pl1)):\n",
    "        for s in Pl1[l]:\n",
    "            if (Pl1[l][s] % 2) == 0:\n",
    "                Pl1[l][s] = 0\n",
    "            else:\n",
    "                Pl1[l][s] = 1               \n",
    "        EQ1.append(sum([key * val for key, val in Pl1[l].items()]))\n",
    "    #print(EQ1)\n",
    "    #print(len(EQ1))\n",
    "    ##Selecting the equations we need\n",
    "    EQ3=[]\n",
    "    for l in range(len(EQ1)):\n",
    "        if (EQ1[l] != 0) and (EQ1[l]!=1):\n",
    "            EQ3.append(EQ1[l])\n",
    "    #print(EQ3) \n",
    "    #print(len(EQ3))\n",
    "    return(EQ3)"
   ]
  },
  {
   "cell_type": "markdown",
   "id": "b6378baa",
   "metadata": {},
   "source": [
    "# Right Nuclei"
   ]
  },
  {
   "cell_type": "code",
   "execution_count": 2,
   "id": "ed725207",
   "metadata": {},
   "outputs": [
    {
     "name": "stdout",
     "output_type": "stream",
     "text": [
      "[x3 + x4, x1 + x2, x3 + x4, x1 + x2, x3 + x4, x1 + x2, x3 + x4, x1 + x2, x3 + x4, x1 + x2, x3 + x4, x1 + x2, x3 + x4, x1 + x2, x3 + x4, x1 + x2, x3 + x4, x1 + x2, x3 + x4, x1 + x2, x3 + x4, x1 + x2, x3 + x4, x1 + x2, x3 + x4, x1 + x2, x3 + x4, x1 + x2, x3 + x4, x1 + x2, x3 + x4, x1 + x2, x3 + x4, x1 + x2, x3 + x4, x1 + x2, x3 + x4, x1 + x2, x3 + x4]\n"
     ]
    }
   ],
   "source": [
    "def functionNr1(A):\n",
    "    s1 = []\n",
    "    s2 = []\n",
    "    s3 = []\n",
    "    s4 = []\n",
    "    for i in range(len(A)):\n",
    "        for j in range(len(A)):\n",
    "            for s in range(len(A)):\n",
    "                for m in range(len(A)):\n",
    "                    for k in range(len(A)):\n",
    "                        s1.append(A[i][k,j]*A[k][s,m]- A[j][k,m]*A[i][s,k])                                  \n",
    "                    l1 = sum(s1)\n",
    "                    s2.append(l1*x[m])\n",
    "                    l2 = sum(s2)\n",
    "                s3.append(l2)\n",
    "    return(s3)\n",
    "RN = Equations(Selecting(functionNr1(matrices(MA1,MA2,MA3,MA4))))\n",
    "print(RN)"
   ]
  },
  {
   "cell_type": "code",
   "execution_count": 6,
   "id": "a28b650e",
   "metadata": {},
   "outputs": [
    {
     "data": {
      "text/html": [
       "<pre style=\"word-wrap: normal;white-space: pre;background: #fff0;line-height: 1.1;font-family: &quot;Courier New&quot;,Courier,monospace\">      ┌───┐ ░            ░            ░ ┌───┐┌─┐         \n",
       "q6_0: ┤ H ├─░───■────────░────────────░─┤ H ├┤M├─────────\n",
       "      ├───┤ ░   │        ░            ░ ├───┤└╥┘┌─┐      \n",
       "q6_1: ┤ H ├─░───┼────■───░────────────░─┤ H ├─╫─┤M├──────\n",
       "      ├───┤ ░   │    │   ░            ░ ├───┤ ║ └╥┘┌─┐   \n",
       "q6_2: ┤ H ├─░───┼────┼───░───■────────░─┤ H ├─╫──╫─┤M├───\n",
       "      ├───┤ ░   │    │   ░   │        ░ ├───┤ ║  ║ └╥┘┌─┐\n",
       "q6_3: ┤ H ├─░───┼────┼───░───┼────■───░─┤ H ├─╫──╫──╫─┤M├\n",
       "      └───┘ ░ ┌─┴─┐┌─┴─┐ ░   │    │   ░ └───┘ ║  ║  ║ └╥┘\n",
       "q7_0: ────────┤ X ├┤ X ├─────┼────┼───────────╫──╫──╫──╫─\n",
       "              └───┘└───┘   ┌─┴─┐┌─┴─┐         ║  ║  ║  ║ \n",
       "q7_1: ─────────────────────┤ X ├┤ X ├─────────╫──╫──╫──╫─\n",
       "                           └───┘└───┘         ║  ║  ║  ║ \n",
       "c3: 4/════════════════════════════════════════╩══╩══╩══╩═\n",
       "                                              0  1  2  3 </pre>"
      ],
      "text/plain": [
       "      ┌───┐ ░            ░            ░ ┌───┐┌─┐         \n",
       "q6_0: ┤ H ├─░───■────────░────────────░─┤ H ├┤M├─────────\n",
       "      ├───┤ ░   │        ░            ░ ├───┤└╥┘┌─┐      \n",
       "q6_1: ┤ H ├─░───┼────■───░────────────░─┤ H ├─╫─┤M├──────\n",
       "      ├───┤ ░   │    │   ░            ░ ├───┤ ║ └╥┘┌─┐   \n",
       "q6_2: ┤ H ├─░───┼────┼───░───■────────░─┤ H ├─╫──╫─┤M├───\n",
       "      ├───┤ ░   │    │   ░   │        ░ ├───┤ ║  ║ └╥┘┌─┐\n",
       "q6_3: ┤ H ├─░───┼────┼───░───┼────■───░─┤ H ├─╫──╫──╫─┤M├\n",
       "      └───┘ ░ ┌─┴─┐┌─┴─┐ ░   │    │   ░ └───┘ ║  ║  ║ └╥┘\n",
       "q7_0: ────────┤ X ├┤ X ├─────┼────┼───────────╫──╫──╫──╫─\n",
       "              └───┘└───┘   ┌─┴─┐┌─┴─┐         ║  ║  ║  ║ \n",
       "q7_1: ─────────────────────┤ X ├┤ X ├─────────╫──╫──╫──╫─\n",
       "                           └───┘└───┘         ║  ║  ║  ║ \n",
       "c3: 4/════════════════════════════════════════╩══╩══╩══╩═\n",
       "                                              0  1  2  3 "
      ]
     },
     "execution_count": 6,
     "metadata": {},
     "output_type": "execute_result"
    }
   ],
   "source": [
    "qregrn1 = QuantumRegister(4) \n",
    "cregrn1 = ClassicalRegister(4) \n",
    "ancillaryrn1 = QuantumRegister(2)\n",
    "\n",
    "\n",
    "qcrn1 = QuantumCircuit(qregrn1, ancillaryrn1, cregrn1)\n",
    "\n",
    "qcrn1.h(range(4))\n",
    "\n",
    "qcrn1.barrier(qregrn1)\n",
    "\n",
    "\n",
    "qcrn1.cx(qregrn1[0],ancillaryrn1[0])\n",
    "qcrn1.cx(qregrn1[1],ancillaryrn1[0])\n",
    "#######################################\n",
    "qcrn1.barrier(qregrn1)\n",
    "###########################################\n",
    "\n",
    "qcrn1.cx(qregrn1[2],ancillaryrn1[1])\n",
    "qcrn1.cx(qregrn1[3],ancillaryrn1[1])\n",
    "#######################################\n",
    "qcrn1.barrier(qregrn1)\n",
    "###########################################\n",
    "qcrn1.h(range(4))\n",
    "\n",
    "for k in range(4):\n",
    "    qcrn1.measure(qregrn1[k],cregrn1[k])\n",
    "\n",
    "qcrn1.draw()"
   ]
  },
  {
   "cell_type": "code",
   "execution_count": 7,
   "id": "54170a68",
   "metadata": {},
   "outputs": [
    {
     "name": "stdout",
     "output_type": "stream",
     "text": [
      "{'1100': 2, '0011': 3, '1111': 3, '0000': 2}\n"
     ]
    },
    {
     "data": {
      "image/png": "[encoded data removed]",
      "text/plain": [
       "<Figure size 504x360 with 1 Axes>"
      ]
     },
     "execution_count": 7,
     "metadata": {},
     "output_type": "execute_result"
    }
   ],
   "source": [
    "aer_sim = Aer.get_backend('aer_simulator')\n",
    "transpiled_qcrn1 = transpile(qcrn1, aer_sim)\n",
    "qobj1 = assemble(transpiled_qcrn1)\n",
    "results1 = aer_sim.run(qobj1,shots =10).result()\n",
    "counts1 = results1.get_counts()\n",
    "print(counts1)\n",
    "plot_histogram(counts1)"
   ]
  },
  {
   "cell_type": "code",
   "execution_count": 8,
   "id": "b4ac0f6d",
   "metadata": {},
   "outputs": [
    {
     "name": "stdout",
     "output_type": "stream",
     "text": [
      "[x3 + x4, x1 + x2, x3 + x4, x1 + x2, x3 + x4, x1 + x2, x3 + x4, x1 + x2, x3 + x4, x1 + x2, x3 + x4, x1 + x2, x3 + x4, x1 + x2, x3 + x4, x1 + x2, x3 + x4, x1 + x2, x3 + x4, x1 + x2, x3 + x4, x1 + x2, x3 + x4, x1 + x2, x3 + x4, x1 + x2, x3 + x4, x1 + x2, x3 + x4, x1 + x2, x3 + x4, x1 + x2, x3 + x4, x1 + x2, x3 + x4, x1 + x2, x3 + x4, x1 + x2, x3 + x4]\n"
     ]
    }
   ],
   "source": [
    "def functionNm1(A):\n",
    "    s1 = []\n",
    "    s2 = []\n",
    "    s3 = []\n",
    "    s4 = []\n",
    "    for i in range(len(A)):\n",
    "        for j in range(len(A)):\n",
    "            for s in range(len(A)):\n",
    "                for m in range(len(A)):\n",
    "                    for k in range(len(A)):\n",
    "                        s1.append(A[i][k,m]*A[k][s,j]- A[m][k,j]*A[i][s,k])                                  \n",
    "                    l1 = sum(s1)\n",
    "                    s2.append(l1*x[m])\n",
    "                    l2 = sum(s2)\n",
    "                s3.append(l2)\n",
    "    return(s3)\n",
    "MN = Equations(Selecting(functionNm1(matrices(MA1,MA2,MA3,MA4))))\n",
    "print(MN)"
   ]
  },
  {
   "cell_type": "code",
   "execution_count": 9,
   "id": "29287c5b",
   "metadata": {},
   "outputs": [
    {
     "name": "stdout",
     "output_type": "stream",
     "text": [
      "[x2 + x3 + x4, x1, x2 + x3 + x4, x1, x2 + x3 + x4, x1, x2 + x3 + x4, x1, x2 + x3 + x4, x1, x2 + x3 + x4, x1, x2 + x3 + x4, x1, x2 + x3 + x4, x1, x2 + x3 + x4, x1, x2 + x3 + x4, x1, x2 + x3 + x4, x1, x2 + x3 + x4]\n"
     ]
    }
   ],
   "source": [
    "def functionNl1(A):\n",
    "    s1 = []\n",
    "    s2 = []\n",
    "    s3 = []\n",
    "    s4 = []\n",
    "    for i in range(len(A)):\n",
    "        for j in range(len(A)):\n",
    "            for s in range(len(A)):\n",
    "                for m in range(len(A)):\n",
    "                    for k in range(len(A)):\n",
    "                        s1.append(A[m][k,i]*A[k][s,j]- A[i][k,j]*A[m][s,k])                                  \n",
    "                    l1 = sum(s1)\n",
    "                    s2.append(l1*x[m])\n",
    "                    l2 = sum(s2)\n",
    "                s3.append(l2)\n",
    "    return(s3)\n",
    "LN = Equations(Selecting(functionNl1(matrices(MA1,MA2,MA3,MA4))))\n",
    "print(LN)"
   ]
  },
  {
   "cell_type": "code",
   "execution_count": 10,
   "id": "03708432",
   "metadata": {},
   "outputs": [
    {
     "data": {
      "text/html": [
       "<pre style=\"word-wrap: normal;white-space: pre;background: #fff0;line-height: 1.1;font-family: &quot;Courier New&quot;,Courier,monospace\">       ┌───┐ ░                 ░       ░ ┌───┐ ░ ┌─┐         \n",
       "q22_0: ┤ H ├─░─────────────────░───■───░─┤ H ├─░─┤M├─────────\n",
       "       ├───┤ ░                 ░   │   ░ ├───┤ ░ └╥┘┌─┐      \n",
       "q22_1: ┤ H ├─░───■─────────────░───┼───░─┤ H ├─░──╫─┤M├──────\n",
       "       ├───┤ ░   │             ░   │   ░ ├───┤ ░  ║ └╥┘┌─┐   \n",
       "q22_2: ┤ H ├─░───┼────■────────░───┼───░─┤ H ├─░──╫──╫─┤M├───\n",
       "       ├───┤ ░   │    │        ░   │   ░ ├───┤ ░  ║  ║ └╥┘┌─┐\n",
       "q22_3: ┤ H ├─░───┼────┼────■───░───┼───░─┤ H ├─░──╫──╫──╫─┤M├\n",
       "       └───┘ ░ ┌─┴─┐┌─┴─┐┌─┴─┐ ░   │   ░ └───┘ ░  ║  ║  ║ └╥┘\n",
       "q22_4: ──────░─┤ X ├┤ X ├┤ X ├─░───┼───░───────░──╫──╫──╫──╫─\n",
       "             ░ └───┘└───┘└───┘ ░ ┌─┴─┐ ░       ░  ║  ║  ║  ║ \n",
       "q22_5: ──────░─────────────────░─┤ X ├─░───────░──╫──╫──╫──╫─\n",
       "             ░                 ░ └───┘ ░       ░  ║  ║  ║  ║ \n",
       " c4: 4/═══════════════════════════════════════════╩══╩══╩══╩═\n",
       "                                                  0  1  2  3 </pre>"
      ],
      "text/plain": [
       "       ┌───┐ ░                 ░       ░ ┌───┐ ░ ┌─┐         \n",
       "q22_0: ┤ H ├─░─────────────────░───■───░─┤ H ├─░─┤M├─────────\n",
       "       ├───┤ ░                 ░   │   ░ ├───┤ ░ └╥┘┌─┐      \n",
       "q22_1: ┤ H ├─░───■─────────────░───┼───░─┤ H ├─░──╫─┤M├──────\n",
       "       ├───┤ ░   │             ░   │   ░ ├───┤ ░  ║ └╥┘┌─┐   \n",
       "q22_2: ┤ H ├─░───┼────■────────░───┼───░─┤ H ├─░──╫──╫─┤M├───\n",
       "       ├───┤ ░   │    │        ░   │   ░ ├───┤ ░  ║  ║ └╥┘┌─┐\n",
       "q22_3: ┤ H ├─░───┼────┼────■───░───┼───░─┤ H ├─░──╫──╫──╫─┤M├\n",
       "       └───┘ ░ ┌─┴─┐┌─┴─┐┌─┴─┐ ░   │   ░ └───┘ ░  ║  ║  ║ └╥┘\n",
       "q22_4: ──────░─┤ X ├┤ X ├┤ X ├─░───┼───░───────░──╫──╫──╫──╫─\n",
       "             ░ └───┘└───┘└───┘ ░ ┌─┴─┐ ░       ░  ║  ║  ║  ║ \n",
       "q22_5: ──────░─────────────────░─┤ X ├─░───────░──╫──╫──╫──╫─\n",
       "             ░                 ░ └───┘ ░       ░  ║  ║  ║  ║ \n",
       " c4: 4/═══════════════════════════════════════════╩══╩══╩══╩═\n",
       "                                                  0  1  2  3 "
      ]
     },
     "execution_count": 10,
     "metadata": {},
     "output_type": "execute_result"
    }
   ],
   "source": [
    "qregln = QuantumRegister(6) #------>33\n",
    "cregln = ClassicalRegister(4)\n",
    "\n",
    "qcln1 = QuantumCircuit(qregln,cregln)\n",
    "\n",
    "qcln1.h(range(4))\n",
    "\n",
    "qcln1.barrier(qregln)\n",
    "\n",
    "qcln1.cx(qregln[1], qregln[4])\n",
    "qcln1.cx(qregln[2], qregln[4])\n",
    "qcln1.cx(qregln[3], qregln[4])\n",
    "qcln1.barrier(qregln)\n",
    "qcln1.cx(qregln[0], qregln[5])\n",
    "qcln1.barrier(qregln)\n",
    "qcln1.h(range(4))\n",
    "\n",
    "qcln1.barrier(qregln)\n",
    "\n",
    "for k in range(4):\n",
    "    qcln1.measure(qregln[k],cregln[k])\n",
    "\n",
    "qcln1.draw()"
   ]
  },
  {
   "cell_type": "code",
   "execution_count": 12,
   "id": "3c6b637c",
   "metadata": {},
   "outputs": [
    {
     "name": "stdout",
     "output_type": "stream",
     "text": [
      "{'1111': 3, '0000': 3, '1110': 2, '0001': 2}\n"
     ]
    },
    {
     "data": {
      "image/png": "[encoded data removed]",
      "text/plain": [
       "<Figure size 504x360 with 1 Axes>"
      ]
     },
     "execution_count": 12,
     "metadata": {},
     "output_type": "execute_result"
    }
   ],
   "source": [
    "transpiled_qcln1 = transpile(qcln1, aer_sim)\n",
    "qobjln1 = assemble(transpiled_qcln1)\n",
    "resultsln1 = aer_sim.run(qobjln1,shots =10).result()\n",
    "countsln1 = resultsln1.get_counts()\n",
    "print(countsln1)\n",
    "plot_histogram(countsln1)"
   ]
  },
  {
   "cell_type": "code",
   "execution_count": 35,
   "id": "f9795d0c",
   "metadata": {},
   "outputs": [
    {
     "data": {
      "text/html": [
       "<pre style=\"word-wrap: normal;white-space: pre;background: #fff0;line-height: 1.1;font-family: &quot;Courier New&quot;,Courier,monospace\">        ┌───┐ ░            ░            ░                 ░      ┌───┐ ░ ┌─┐   »\n",
       "q294_0: ┤ H ├─░───■────────░────────────░─────────────────░───■──┤ H ├─░─┤M├───»\n",
       "        ├───┤ ░   │        ░            ░                 ░   │  ├───┤ ░ └╥┘┌─┐»\n",
       "q294_1: ┤ H ├─░───┼────■───░────────────░───■─────────────░───┼──┤ H ├─░──╫─┤M├»\n",
       "        ├───┤ ░   │    │   ░            ░   │             ░   │  ├───┤ ░  ║ └╥┘»\n",
       "q294_2: ┤ H ├─░───┼────┼───░───■────────░───┼────■────────░───┼──┤ H ├─░──╫──╫─»\n",
       "        ├───┤ ░   │    │   ░   │        ░   │    │        ░   │  ├───┤ ░  ║  ║ »\n",
       "q294_3: ┤ H ├─░───┼────┼───░───┼────■───░───┼────┼────■───░───┼──┤ H ├─░──╫──╫─»\n",
       "        └───┘ ░ ┌─┴─┐┌─┴─┐ ░   │    │   ░   │    │    │   ░   │  └───┘ ░  ║  ║ »\n",
       "q294_4: ──────░─┤ X ├┤ X ├─░───┼────┼───░───┼────┼────┼───░───┼────────░──╫──╫─»\n",
       "              ░ └───┘└───┘ ░ ┌─┴─┐┌─┴─┐ ░   │    │    │   ░   │        ░  ║  ║ »\n",
       "q294_5: ──────░────────────░─┤ X ├┤ X ├─░───┼────┼────┼───░───┼────────░──╫──╫─»\n",
       "              ░            ░ └───┘└───┘ ░ ┌─┴─┐┌─┴─┐┌─┴─┐ ░   │        ░  ║  ║ »\n",
       "q294_6: ──────░────────────░────────────░─┤ X ├┤ X ├┤ X ├─░───┼────────░──╫──╫─»\n",
       "              ░            ░            ░ └───┘└───┘└───┘ ░ ┌─┴─┐      ░  ║  ║ »\n",
       "q294_7: ──────░────────────░────────────░─────────────────░─┤ X ├──────░──╫──╫─»\n",
       "              ░            ░            ░                 ░ └───┘      ░  ║  ║ »\n",
       " c10: 4/══════════════════════════════════════════════════════════════════╩══╩═»\n",
       "                                                                          0  1 »\n",
       "«              \n",
       "«q294_0: ──────\n",
       "«              \n",
       "«q294_1: ──────\n",
       "«        ┌─┐   \n",
       "«q294_2: ┤M├───\n",
       "«        └╥┘┌─┐\n",
       "«q294_3: ─╫─┤M├\n",
       "«         ║ └╥┘\n",
       "«q294_4: ─╫──╫─\n",
       "«         ║  ║ \n",
       "«q294_5: ─╫──╫─\n",
       "«         ║  ║ \n",
       "«q294_6: ─╫──╫─\n",
       "«         ║  ║ \n",
       "«q294_7: ─╫──╫─\n",
       "«         ║  ║ \n",
       "« c10: 4/═╩══╩═\n",
       "«         2  3 </pre>"
      ],
      "text/plain": [
       "        ┌───┐ ░            ░            ░                 ░      ┌───┐ ░ ┌─┐   »\n",
       "q294_0: ┤ H ├─░───■────────░────────────░─────────────────░───■──┤ H ├─░─┤M├───»\n",
       "        ├───┤ ░   │        ░            ░                 ░   │  ├───┤ ░ └╥┘┌─┐»\n",
       "q294_1: ┤ H ├─░───┼────■───░────────────░───■─────────────░───┼──┤ H ├─░──╫─┤M├»\n",
       "        ├───┤ ░   │    │   ░            ░   │             ░   │  ├───┤ ░  ║ └╥┘»\n",
       "q294_2: ┤ H ├─░───┼────┼───░───■────────░───┼────■────────░───┼──┤ H ├─░──╫──╫─»\n",
       "        ├───┤ ░   │    │   ░   │        ░   │    │        ░   │  ├───┤ ░  ║  ║ »\n",
       "q294_3: ┤ H ├─░───┼────┼───░───┼────■───░───┼────┼────■───░───┼──┤ H ├─░──╫──╫─»\n",
       "        └───┘ ░ ┌─┴─┐┌─┴─┐ ░   │    │   ░   │    │    │   ░   │  └───┘ ░  ║  ║ »\n",
       "q294_4: ──────░─┤ X ├┤ X ├─░───┼────┼───░───┼────┼────┼───░───┼────────░──╫──╫─»\n",
       "              ░ └───┘└───┘ ░ ┌─┴─┐┌─┴─┐ ░   │    │    │   ░   │        ░  ║  ║ »\n",
       "q294_5: ──────░────────────░─┤ X ├┤ X ├─░───┼────┼────┼───░───┼────────░──╫──╫─»\n",
       "              ░            ░ └───┘└───┘ ░ ┌─┴─┐┌─┴─┐┌─┴─┐ ░   │        ░  ║  ║ »\n",
       "q294_6: ──────░────────────░────────────░─┤ X ├┤ X ├┤ X ├─░───┼────────░──╫──╫─»\n",
       "              ░            ░            ░ └───┘└───┘└───┘ ░ ┌─┴─┐      ░  ║  ║ »\n",
       "q294_7: ──────░────────────░────────────░─────────────────░─┤ X ├──────░──╫──╫─»\n",
       "              ░            ░            ░                 ░ └───┘      ░  ║  ║ »\n",
       " c10: 4/══════════════════════════════════════════════════════════════════╩══╩═»\n",
       "                                                                          0  1 »\n",
       "«              \n",
       "«q294_0: ──────\n",
       "«              \n",
       "«q294_1: ──────\n",
       "«        ┌─┐   \n",
       "«q294_2: ┤M├───\n",
       "«        └╥┘┌─┐\n",
       "«q294_3: ─╫─┤M├\n",
       "«         ║ └╥┘\n",
       "«q294_4: ─╫──╫─\n",
       "«         ║  ║ \n",
       "«q294_5: ─╫──╫─\n",
       "«         ║  ║ \n",
       "«q294_6: ─╫──╫─\n",
       "«         ║  ║ \n",
       "«q294_7: ─╫──╫─\n",
       "«         ║  ║ \n",
       "« c10: 4/═╩══╩═\n",
       "«         2  3 "
      ]
     },
     "execution_count": 35,
     "metadata": {},
     "output_type": "execute_result"
    }
   ],
   "source": [
    "qregn = QuantumRegister(8) \n",
    "cregn = ClassicalRegister(4)\n",
    "\n",
    "qcn = QuantumCircuit(qregn,cregn)\n",
    "\n",
    "qcn.h(range(4))\n",
    "\n",
    "###########################################\n",
    "qcn.barrier(qregn)\n",
    "###########################################\n",
    "\n",
    "qcn.cx(qregn[0], qregn[4])\n",
    "qcn.cx(qregn[1], qregn[4])\n",
    "#######################################\n",
    "qcn.barrier(qregn)\n",
    "###########################################\n",
    "qcn.cx(qregn[2], qregn[5])\n",
    "qcn.cx(qregn[3], qregn[5])\n",
    "###########################################\n",
    "qcn.barrier(qregn)\n",
    "###########################################\n",
    "qcn.cx(qregn[1], qregn[6])\n",
    "qcn.cx(qregn[2], qregn[6])\n",
    "qcn.cx(qregn[3], qregn[6])\n",
    "###########################################\n",
    "qcn.barrier(qregn)\n",
    "###########################################\n",
    "qcn.cx(qregn[0], qregn[7])\n",
    "\n",
    "qcn.h(range(4))\n",
    "\n",
    "###########################################\n",
    "qcn.barrier(qregn)\n",
    "###########################################\n",
    "\n",
    "for k in range(4):\n",
    "    qcn.measure(qregn[k],cregn[k])\n",
    "\n",
    "qcn.draw()"
   ]
  },
  {
   "cell_type": "code",
   "execution_count": 36,
   "id": "b4aafa3f",
   "metadata": {},
   "outputs": [
    {
     "name": "stdout",
     "output_type": "stream",
     "text": [
      "{'1100': 7, '0011': 2, '0010': 5, '1110': 4, '1101': 1, '0000': 5, '1111': 3, '0001': 3}\n"
     ]
    },
    {
     "data": {
      "image/png": "[encoded data removed]",
      "text/plain": [
       "<Figure size 504x360 with 1 Axes>"
      ]
     },
     "execution_count": 36,
     "metadata": {},
     "output_type": "execute_result"
    }
   ],
   "source": [
    "transpiled_qcn = transpile(qcn, aer_sim)\n",
    "qobjn = assemble(transpiled_qcn)\n",
    "resultsn = aer_sim.run(qobjn,shots = 30).result()\n",
    "countsn = resultsn.get_counts()\n",
    "print(countsn)\n",
    "plot_histogram(countsn)"
   ]
  },
  {
   "cell_type": "code",
   "execution_count": 37,
   "id": "d29087ce",
   "metadata": {},
   "outputs": [
    {
     "data": {
      "text/plain": [
       "[0, 0, 0, 0, 0, -x3, 0, 0, 0, x2, 0, 0, 0, 0, 0, 0]"
      ]
     },
     "execution_count": 37,
     "metadata": {},
     "output_type": "execute_result"
    }
   ],
   "source": [
    "from itertools import accumulate\n",
    "def functionZ(A):\n",
    "    s1 = []\n",
    "    s2 = []\n",
    "    for i in range(len(A)):\n",
    "        for k in range(len(A)):\n",
    "            for m in range(len(A)):\n",
    "                s1.append((A[m][k,i]- A[i][k,m])*x[m])                                \n",
    "    Input = s1\n",
    "    split = len(s1) / len(A)\n",
    "    length_to_split = [] \n",
    "    for i in range(int(split)):\n",
    "          length_to_split.append(len(A))\n",
    "    Output = [Input[x - y: x] for x, y in zip(accumulate(length_to_split), length_to_split)]\n",
    "    s4 = []\n",
    "    for i in range(len(Output)):\n",
    "        s3 = sum(Output[i])\n",
    "        s4.append(s3)\n",
    "    return(s4)\n",
    "functionZ(matrices(MA1,MA2,MA3,MA4))"
   ]
  },
  {
   "cell_type": "code",
   "execution_count": 38,
   "id": "7fdc65a0",
   "metadata": {},
   "outputs": [
    {
     "data": {
      "text/html": [
       "<pre style=\"word-wrap: normal;white-space: pre;background: #fff0;line-height: 1.1;font-family: &quot;Courier New&quot;,Courier,monospace\">        ┌───┐ ░            ░            ░                 ░       ░  ░      »\n",
       "q309_0: ┤ H ├─░───■────────░────────────░─────────────────░───■───░──░──────»\n",
       "        ├───┤ ░   │        ░            ░                 ░   │   ░  ░      »\n",
       "q309_1: ┤ H ├─░───┼────■───░────────────░───■─────────────░───┼───░──░──────»\n",
       "        ├───┤ ░   │    │   ░            ░   │             ░   │   ░  ░      »\n",
       "q309_2: ┤ H ├─░───┼────┼───░───■────────░───┼────■────────░───┼───░──░───■──»\n",
       "        ├───┤ ░   │    │   ░   │        ░   │    │        ░   │   ░  ░   │  »\n",
       "q309_3: ┤ H ├─░───┼────┼───░───┼────■───░───┼────┼────■───░───┼───░──░───┼──»\n",
       "        └───┘ ░ ┌─┴─┐┌─┴─┐ ░   │    │   ░   │    │    │   ░   │   ░  ░   │  »\n",
       "q310_0: ────────┤ X ├┤ X ├─────┼────┼───────┼────┼────┼───────┼──────────┼──»\n",
       "                └───┘└───┘   ┌─┴─┐┌─┴─┐     │    │    │       │          │  »\n",
       "q310_1: ─────────────────────┤ X ├┤ X ├─────┼────┼────┼───────┼──────────┼──»\n",
       "                             └───┘└───┘   ┌─┴─┐┌─┴─┐┌─┴─┐     │          │  »\n",
       "q310_2: ──────────────────────────────────┤ X ├┤ X ├┤ X ├─────┼──────────┼──»\n",
       "                                          └───┘└───┘└───┘   ┌─┴─┐        │  »\n",
       "q310_3: ────────────────────────────────────────────────────┤ X ├────────┼──»\n",
       "                                                            └───┘      ┌─┴─┐»\n",
       "q310_4: ───────────────────────────────────────────────────────────────┤ X ├»\n",
       "                                                                       └───┘»\n",
       "q310_5: ────────────────────────────────────────────────────────────────────»\n",
       "                                                                            »\n",
       " c11: 4/════════════════════════════════════════════════════════════════════»\n",
       "                                                                            »\n",
       "«              ░ ┌───┐ ░ ┌─┐         \n",
       "«q309_0: ──────░─┤ H ├─░─┤M├─────────\n",
       "«              ░ ├───┤ ░ └╥┘┌─┐      \n",
       "«q309_1: ──■───░─┤ H ├─░──╫─┤M├──────\n",
       "«          │   ░ ├───┤ ░  ║ └╥┘┌─┐   \n",
       "«q309_2: ──┼───░─┤ H ├─░──╫──╫─┤M├───\n",
       "«          │   ░ ├───┤ ░  ║  ║ └╥┘┌─┐\n",
       "«q309_3: ──┼───░─┤ H ├─░──╫──╫──╫─┤M├\n",
       "«          │   ░ └───┘ ░  ║  ║  ║ └╥┘\n",
       "«q310_0: ──┼──────────────╫──╫──╫──╫─\n",
       "«          │              ║  ║  ║  ║ \n",
       "«q310_1: ──┼──────────────╫──╫──╫──╫─\n",
       "«          │              ║  ║  ║  ║ \n",
       "«q310_2: ──┼──────────────╫──╫──╫──╫─\n",
       "«          │              ║  ║  ║  ║ \n",
       "«q310_3: ──┼──────────────╫──╫──╫──╫─\n",
       "«          │              ║  ║  ║  ║ \n",
       "«q310_4: ──┼──────────────╫──╫──╫──╫─\n",
       "«        ┌─┴─┐            ║  ║  ║  ║ \n",
       "«q310_5: ┤ X ├────────────╫──╫──╫──╫─\n",
       "«        └───┘            ║  ║  ║  ║ \n",
       "« c11: 4/═════════════════╩══╩══╩══╩═\n",
       "«                         0  1  2  3 </pre>"
      ],
      "text/plain": [
       "        ┌───┐ ░            ░            ░                 ░       ░  ░      »\n",
       "q309_0: ┤ H ├─░───■────────░────────────░─────────────────░───■───░──░──────»\n",
       "        ├───┤ ░   │        ░            ░                 ░   │   ░  ░      »\n",
       "q309_1: ┤ H ├─░───┼────■───░────────────░───■─────────────░───┼───░──░──────»\n",
       "        ├───┤ ░   │    │   ░            ░   │             ░   │   ░  ░      »\n",
       "q309_2: ┤ H ├─░───┼────┼───░───■────────░───┼────■────────░───┼───░──░───■──»\n",
       "        ├───┤ ░   │    │   ░   │        ░   │    │        ░   │   ░  ░   │  »\n",
       "q309_3: ┤ H ├─░───┼────┼───░───┼────■───░───┼────┼────■───░───┼───░──░───┼──»\n",
       "        └───┘ ░ ┌─┴─┐┌─┴─┐ ░   │    │   ░   │    │    │   ░   │   ░  ░   │  »\n",
       "q310_0: ────────┤ X ├┤ X ├─────┼────┼───────┼────┼────┼───────┼──────────┼──»\n",
       "                └───┘└───┘   ┌─┴─┐┌─┴─┐     │    │    │       │          │  »\n",
       "q310_1: ─────────────────────┤ X ├┤ X ├─────┼────┼────┼───────┼──────────┼──»\n",
       "                             └───┘└───┘   ┌─┴─┐┌─┴─┐┌─┴─┐     │          │  »\n",
       "q310_2: ──────────────────────────────────┤ X ├┤ X ├┤ X ├─────┼──────────┼──»\n",
       "                                          └───┘└───┘└───┘   ┌─┴─┐        │  »\n",
       "q310_3: ────────────────────────────────────────────────────┤ X ├────────┼──»\n",
       "                                                            └───┘      ┌─┴─┐»\n",
       "q310_4: ───────────────────────────────────────────────────────────────┤ X ├»\n",
       "                                                                       └───┘»\n",
       "q310_5: ────────────────────────────────────────────────────────────────────»\n",
       "                                                                            »\n",
       " c11: 4/════════════════════════════════════════════════════════════════════»\n",
       "                                                                            »\n",
       "«              ░ ┌───┐ ░ ┌─┐         \n",
       "«q309_0: ──────░─┤ H ├─░─┤M├─────────\n",
       "«              ░ ├───┤ ░ └╥┘┌─┐      \n",
       "«q309_1: ──■───░─┤ H ├─░──╫─┤M├──────\n",
       "«          │   ░ ├───┤ ░  ║ └╥┘┌─┐   \n",
       "«q309_2: ──┼───░─┤ H ├─░──╫──╫─┤M├───\n",
       "«          │   ░ ├───┤ ░  ║  ║ └╥┘┌─┐\n",
       "«q309_3: ──┼───░─┤ H ├─░──╫──╫──╫─┤M├\n",
       "«          │   ░ └───┘ ░  ║  ║  ║ └╥┘\n",
       "«q310_0: ──┼──────────────╫──╫──╫──╫─\n",
       "«          │              ║  ║  ║  ║ \n",
       "«q310_1: ──┼──────────────╫──╫──╫──╫─\n",
       "«          │              ║  ║  ║  ║ \n",
       "«q310_2: ──┼──────────────╫──╫──╫──╫─\n",
       "«          │              ║  ║  ║  ║ \n",
       "«q310_3: ──┼──────────────╫──╫──╫──╫─\n",
       "«          │              ║  ║  ║  ║ \n",
       "«q310_4: ──┼──────────────╫──╫──╫──╫─\n",
       "«        ┌─┴─┐            ║  ║  ║  ║ \n",
       "«q310_5: ┤ X ├────────────╫──╫──╫──╫─\n",
       "«        └───┘            ║  ║  ║  ║ \n",
       "« c11: 4/═════════════════╩══╩══╩══╩═\n",
       "«                         0  1  2  3 "
      ]
     },
     "execution_count": 38,
     "metadata": {},
     "output_type": "execute_result"
    }
   ],
   "source": [
    "qregc = QuantumRegister(4)\n",
    "ancillaryc = QuantumRegister(6)\n",
    "cregc = ClassicalRegister(4)\n",
    "\n",
    "qcc = QuantumCircuit(qregc, ancillaryc, cregc)\n",
    "\n",
    "qcc.h(range(4))\n",
    "\n",
    "###########################################\n",
    "qcc.barrier(qregc)\n",
    "###########################################\n",
    "qcc.cx(qregc[0],ancillaryc[0])\n",
    "qcc.cx(qregc[1],ancillaryc[0])\n",
    "#######################################\n",
    "qcc.barrier(qregc)\n",
    "###########################################\n",
    "qcc.cx(qregc[2],ancillaryc[1])\n",
    "qcc.cx(qregc[3],ancillaryc[1])\n",
    "#######################################\n",
    "qcc.barrier(qregc)\n",
    "\n",
    "qcc.cx(qregc[1], ancillaryc[2])\n",
    "qcc.cx(qregc[2], ancillaryc[2])\n",
    "qcc.cx(qregc[3], ancillaryc[2])\n",
    "qcc.barrier(qregc)\n",
    "qcc.cx(qregc[0], ancillaryc[3])\n",
    "qcc.barrier(qregc)\n",
    "###########################################\n",
    "qcc.barrier(qregc)\n",
    "###########################################\n",
    "qcc.cx(qregc[2], ancillaryc[4])\n",
    "qcc.cx(qregc[1], ancillaryc[5])\n",
    "\n",
    "###########################################\n",
    "qcc.barrier(qregc)\n",
    "###########################################\n",
    "qcc.h(range(4))\n",
    "###########################################\n",
    "qcc.barrier(qregc)\n",
    "###########################################\n",
    "for k in range(4):\n",
    "    qcc.measure(qregc[k],cregc[k])\n",
    "qcc.draw() "
   ]
  },
  {
   "cell_type": "code",
   "execution_count": 39,
   "id": "ac0ebb0f",
   "metadata": {},
   "outputs": [
    {
     "name": "stdout",
     "output_type": "stream",
     "text": [
      "{'0000': 4, '0001': 4, '0101': 1, '1111': 2, '0110': 5, '0100': 3, '0010': 2, '0011': 3, '1010': 4, '1110': 3, '1001': 4, '0111': 2, '1101': 3, '1000': 3, '1011': 5, '1100': 2}\n"
     ]
    },
    {
     "data": {
      "image/png": "[encoded data removed]",
      "text/plain": [
       "<Figure size 864x360 with 1 Axes>"
      ]
     },
     "execution_count": 39,
     "metadata": {},
     "output_type": "execute_result"
    }
   ],
   "source": [
    "aer_sim = Aer.get_backend('aer_simulator')\n",
    "transpiled_qcc = transpile(qcc, aer_sim)\n",
    "qobjc1 = assemble(transpiled_qcc)\n",
    "resultsc1 = aer_sim.run(qobjc1,shots = 50).result()\n",
    "countsc1 = resultsc1.get_counts()\n",
    "print(countsc1)\n",
    "plot_histogram(countsc1, figsize=(12,5))"
   ]
  },
  {
   "cell_type": "code",
   "execution_count": null,
   "id": "aec38a2f",
   "metadata": {},
   "outputs": [],
   "source": []
  }
 ],
 "metadata": {
  "kernelspec": {
   "display_name": "Python 3 (ipykernel)",
   "language": "python",
   "name": "python3"
  },
  "language_info": {
   "codemirror_mode": {
    "name": "ipython",
    "version": 3
   },
   "file_extension": ".py",
   "mimetype": "text/x-python",
   "name": "python",
   "nbconvert_exporter": "python",
   "pygments_lexer": "ipython3",
   "version": "3.9.7"
  }
 },
 "nbformat": 4,
 "nbformat_minor": 5
}
