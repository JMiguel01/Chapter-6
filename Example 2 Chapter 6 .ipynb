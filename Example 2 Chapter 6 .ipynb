{
 "cells": [
  {
   "cell_type": "code",
   "execution_count": 1,
   "id": "c01cc3a4",
   "metadata": {},
   "outputs": [],
   "source": [
    "from sympy import symbols, Matrix, pprint, collect, factor\n",
    "import itertools\n",
    "x1, x2, x3, x4 = symbols('x1, x2, x3, x4')\n",
    "x = []\n",
    "name = \"x\"\n",
    "for i in range(1,5):\n",
    "    v = symbols(name+str(i))\n",
    "    x.append(v)\n",
    "MA1 = Matrix([[0, 0, 0, 0],[0, 0, 0, 0],[0, 0, 0, 0],[0, 0, 0, 0]])\n",
    "MA2 = Matrix([[0, 0, 0, 0],[0, 0, 1, 0],[0, 0, 0, 0],[0, 0, 0, 0]])\n",
    "MA3 = Matrix([[0, 0, 0, 0],[0, 0, 0, 0],[0, 0, 0, 0],[0, 0, 0, 0]])\n",
    "MA4 = Matrix([[0, 0, 0, 0],[0, 0, 0, 0],[0, 0, 0, 0],[0, 0, 0, 0]])"
   ]
  },
  {
   "cell_type": "code",
   "execution_count": 2,
   "id": "d7ba2f2c",
   "metadata": {},
   "outputs": [],
   "source": [
    "def matrices(A1,A2,A3,A4):\n",
    "    MatrixAA1 = {}\n",
    "    for i in range(4):\n",
    "        for j in range(4):\n",
    "            if (i == 0):\n",
    "                MatrixAA1[i,j] = A1[i+j]\n",
    "            if (i == 1):\n",
    "                 MatrixAA1[i,j] = A1[3+i+j]\n",
    "            if (i == 2):\n",
    "                 MatrixAA1[i,j] = A1[6+i+j]\n",
    "            if (i == 3):\n",
    "                MatrixAA1[i,j] = A1[9+i+j]\n",
    "    MatrixAA2 = {}\n",
    "    for i in range(4):\n",
    "        for j in range(4):\n",
    "            if (i == 0):\n",
    "                MatrixAA2[i,j] = A2[i+j]\n",
    "            if (i == 1):\n",
    "                 MatrixAA2[i,j] = A2[3+i+j]\n",
    "            if (i == 2):\n",
    "                 MatrixAA2[i,j] = A2[6+i+j]\n",
    "            if (i == 3):\n",
    "                MatrixAA2[i,j] = A2[9+i+j]\n",
    "    MatrixAA3 = {}\n",
    "    for i in range(4):\n",
    "        for j in range(4):\n",
    "            if (i == 0):\n",
    "                MatrixAA3[i,j] = A3[i+j]\n",
    "            if (i == 1):\n",
    "                 MatrixAA3[i,j] = A3[3+i+j]\n",
    "            if (i == 2):\n",
    "                 MatrixAA3[i,j] = A3[6+i+j]\n",
    "            if (i == 3):\n",
    "                MatrixAA3[i,j] = A3[9+i+j]\n",
    "    MatrixAA4 = {}\n",
    "    for i in range(4):\n",
    "        for j in range(4):\n",
    "            if (i == 0):\n",
    "                MatrixAA4[i,j] = A4[i+j]\n",
    "            if (i == 1):\n",
    "                MatrixAA4[i,j] = A4[3+i+j]\n",
    "            if (i == 2):\n",
    "                MatrixAA4[i,j] = A4[6+i+j]\n",
    "            if (i == 3):\n",
    "                MatrixAA4[i,j] = A4[9+i+j]\n",
    "    MMT = [MatrixAA1,MatrixAA2,MatrixAA3,MatrixAA4]\n",
    "    return(MMT)\n",
    "def Selecting(X):\n",
    "    x1, x2, x3, x4 = symbols('x1, x2, x3, x4')\n",
    "    X1 = []\n",
    "    for i in range(len(X)):\n",
    "        if (X[i] != 0):\n",
    "            X1.append(X[i])\n",
    "    return(X1)\n",
    "def Equations(First):\n",
    "    BB31= First\n",
    "    Pl1 =[]\n",
    "    for i in range(len(BB31)):\n",
    "        Pl1.append(dict(BB31[i].as_coefficients_dict()))\n",
    "        #print(BB31)\n",
    "    ##Symplify computations of coefficients module 2\n",
    "    EQ1 =[]\n",
    "    for l in range(len(Pl1)):\n",
    "        for s in Pl1[l]:\n",
    "            if (Pl1[l][s] % 2) == 0:\n",
    "                Pl1[l][s] = 0\n",
    "            else:\n",
    "                Pl1[l][s] = 1               \n",
    "        EQ1.append(sum([key * val for key, val in Pl1[l].items()]))\n",
    "    #print(EQ1)\n",
    "    #print(len(EQ1))\n",
    "    ##Selecting the equations we need\n",
    "    EQ3=[]\n",
    "    for l in range(len(EQ1)):\n",
    "        if (EQ1[l] != 0) and (EQ1[l]!=1):\n",
    "            EQ3.append(EQ1[l])\n",
    "    #print(EQ3) \n",
    "    #print(len(EQ3))\n",
    "    return(EQ3)"
   ]
  },
  {
   "cell_type": "markdown",
   "id": "640c41a5",
   "metadata": {},
   "source": [
    "# Right Nucleus"
   ]
  },
  {
   "cell_type": "code",
   "execution_count": 3,
   "id": "8e5940f5",
   "metadata": {},
   "outputs": [],
   "source": [
    "def functionNr1(A):\n",
    "    s1 = []\n",
    "    s2 = []\n",
    "    s3 = []\n",
    "    s4 = []\n",
    "    for i in range(len(A)):\n",
    "        for j in range(len(A)):\n",
    "            for s in range(len(A)):\n",
    "                for m in range(len(A)):\n",
    "                    for k in range(len(A)):\n",
    "                        s1.append(A[i][k,j]*A[k][s,m]- A[j][k,m]*A[i][s,k])                                  \n",
    "                    l1 = sum(s1)\n",
    "                    s2.append(l1*x[m])\n",
    "                    l2 = sum(s2)\n",
    "                s3.append(l2)\n",
    "    return(s3)"
   ]
  },
  {
   "cell_type": "code",
   "execution_count": 4,
   "id": "84ea2f56",
   "metadata": {},
   "outputs": [
    {
     "name": "stdout",
     "output_type": "stream",
     "text": [
      "[x3 + x4, x1 + x2, x3 + x4, x1 + x2, x3 + x4, x1 + x2, x3 + x4, x1 + x2, x3 + x4, x1 + x2, x3 + x4, x1 + x2, x3 + x4, x1 + x2, x3 + x4, x1 + x2, x3 + x4, x1 + x2, x3 + x4, x1 + x2, x3 + x4, x1 + x2, x3 + x4, x1 + x2, x3 + x4, x1 + x2, x3 + x4, x1 + x2, x3 + x4, x1 + x2, x3 + x4, x1 + x2, x3 + x4, x1 + x2, x3 + x4, x1 + x2, x3 + x4, x1 + x2, x3 + x4]\n"
     ]
    }
   ],
   "source": [
    "RN = Equations(Selecting(functionNr1(matrices(MA1,MA2,MA3,MA4))))\n",
    "print(RN)"
   ]
  },
  {
   "cell_type": "code",
   "execution_count": 5,
   "id": "b04da1e6",
   "metadata": {},
   "outputs": [],
   "source": [
    "# importing Qiskit\n",
    "from qiskit import IBMQ, Aer\n",
    "from qiskit.providers.ibmq import least_busy\n",
    "from qiskit import QuantumCircuit, QuantumRegister, ClassicalRegister, transpile, assemble\n",
    "# import basic plot tools\n",
    "from qiskit.visualization import plot_histogram\n",
    "aer_sim = Aer.get_backend('aer_simulator')"
   ]
  },
  {
   "cell_type": "code",
   "execution_count": 7,
   "id": "8b3a0b1c",
   "metadata": {},
   "outputs": [
    {
     "data": {
      "text/html": [
       "<pre style=\"word-wrap: normal;white-space: pre;background: #fff0;line-height: 1.1;font-family: &quot;Courier New&quot;,Courier,monospace\">      ┌───┐ ░            ░            ░ ┌───┐┌─┐         \n",
       "q1_0: ┤ H ├─░───■────────░────────────░─┤ H ├┤M├─────────\n",
       "      ├───┤ ░   │        ░            ░ ├───┤└╥┘┌─┐      \n",
       "q1_1: ┤ H ├─░───┼────■───░────────────░─┤ H ├─╫─┤M├──────\n",
       "      ├───┤ ░   │    │   ░            ░ ├───┤ ║ └╥┘┌─┐   \n",
       "q1_2: ┤ H ├─░───┼────┼───░───■────────░─┤ H ├─╫──╫─┤M├───\n",
       "      ├───┤ ░   │    │   ░   │        ░ ├───┤ ║  ║ └╥┘┌─┐\n",
       "q1_3: ┤ H ├─░───┼────┼───░───┼────■───░─┤ H ├─╫──╫──╫─┤M├\n",
       "      └───┘ ░ ┌─┴─┐┌─┴─┐ ░   │    │   ░ └───┘ ║  ║  ║ └╥┘\n",
       "q1_4: ──────░─┤ X ├┤ X ├─░───┼────┼───░───────╫──╫──╫──╫─\n",
       "            ░ └───┘└───┘ ░ ┌─┴─┐┌─┴─┐ ░       ║  ║  ║  ║ \n",
       "q1_5: ──────░────────────░─┤ X ├┤ X ├─░───────╫──╫──╫──╫─\n",
       "            ░            ░ └───┘└───┘ ░       ║  ║  ║  ║ \n",
       "c1: 4/════════════════════════════════════════╩══╩══╩══╩═\n",
       "                                              0  1  2  3 </pre>"
      ],
      "text/plain": [
       "      ┌───┐ ░            ░            ░ ┌───┐┌─┐         \n",
       "q1_0: ┤ H ├─░───■────────░────────────░─┤ H ├┤M├─────────\n",
       "      ├───┤ ░   │        ░            ░ ├───┤└╥┘┌─┐      \n",
       "q1_1: ┤ H ├─░───┼────■───░────────────░─┤ H ├─╫─┤M├──────\n",
       "      ├───┤ ░   │    │   ░            ░ ├───┤ ║ └╥┘┌─┐   \n",
       "q1_2: ┤ H ├─░───┼────┼───░───■────────░─┤ H ├─╫──╫─┤M├───\n",
       "      ├───┤ ░   │    │   ░   │        ░ ├───┤ ║  ║ └╥┘┌─┐\n",
       "q1_3: ┤ H ├─░───┼────┼───░───┼────■───░─┤ H ├─╫──╫──╫─┤M├\n",
       "      └───┘ ░ ┌─┴─┐┌─┴─┐ ░   │    │   ░ └───┘ ║  ║  ║ └╥┘\n",
       "q1_4: ──────░─┤ X ├┤ X ├─░───┼────┼───░───────╫──╫──╫──╫─\n",
       "            ░ └───┘└───┘ ░ ┌─┴─┐┌─┴─┐ ░       ║  ║  ║  ║ \n",
       "q1_5: ──────░────────────░─┤ X ├┤ X ├─░───────╫──╫──╫──╫─\n",
       "            ░            ░ └───┘└───┘ ░       ║  ║  ║  ║ \n",
       "c1: 4/════════════════════════════════════════╩══╩══╩══╩═\n",
       "                                              0  1  2  3 "
      ]
     },
     "execution_count": 7,
     "metadata": {},
     "output_type": "execute_result"
    }
   ],
   "source": [
    "qregrn1 = QuantumRegister(6)\n",
    "cregrn1 = ClassicalRegister(4) \n",
    "qcrn1 = QuantumCircuit(qregrn1, cregrn1)\n",
    "\n",
    "qcrn1.h(range(4))\n",
    "#######################################\n",
    "qcrn1.barrier(qregrn1)\n",
    "###########################################\n",
    "qcrn1.cx(qregrn1[0],qregrn1[4])\n",
    "qcrn1.cx(qregrn1[1],qregrn1[4])\n",
    "#######################################\n",
    "qcrn1.barrier(qregrn1)\n",
    "###########################################\n",
    "qcrn1.cx(qregrn1[2],qregrn1[5])\n",
    "qcrn1.cx(qregrn1[3],qregrn1[5])\n",
    "#######################################\n",
    "qcrn1.barrier(qregrn1)\n",
    "###########################################\n",
    "qcrn1.h(range(4))\n",
    "for k in range(4):\n",
    "    qcrn1.measure(qregrn1[k],cregrn1[k])\n",
    "qcrn1.draw()"
   ]
  },
  {
   "cell_type": "code",
   "execution_count": 29,
   "id": "c0fd674f",
   "metadata": {},
   "outputs": [
    {
     "name": "stdout",
     "output_type": "stream",
     "text": [
      "{'0011': 2, '1100': 6, '1111': 2}\n"
     ]
    },
    {
     "data": {
      "image/png": "[encoded data removed]",
      "text/plain": [
       "<Figure size 504x360 with 1 Axes>"
      ]
     },
     "execution_count": 29,
     "metadata": {},
     "output_type": "execute_result"
    }
   ],
   "source": [
    "transpiled_qcrn1 = transpile(qcrn1, aer_sim)\n",
    "qobjrn12 = assemble(transpiled_qcrn1)\n",
    "resultsrn12 = aer_sim.run(qobjrn12,shots = 10).result()\n",
    "countsrn12 = resultsrn12.get_counts()\n",
    "print(countsrn12)\n",
    "plot_histogram(countsrn12)"
   ]
  },
  {
   "cell_type": "markdown",
   "id": "9b67eadb",
   "metadata": {},
   "source": [
    "# Middle Nucleus"
   ]
  },
  {
   "cell_type": "code",
   "execution_count": 10,
   "id": "0c236186",
   "metadata": {},
   "outputs": [],
   "source": [
    "def functionNm1(A):\n",
    "    s1 = []\n",
    "    s2 = []\n",
    "    s3 = []\n",
    "    s4 = []\n",
    "    for i in range(len(A)):\n",
    "        for j in range(len(A)):\n",
    "            for s in range(len(A)):\n",
    "                for m in range(len(A)):\n",
    "                    for k in range(len(A)):\n",
    "                        s1.append(A[i][k,m]*A[k][s,j]- A[m][k,j]*A[i][s,k])                                  \n",
    "                    l1 = sum(s1)\n",
    "                    s2.append(l1*x[m])\n",
    "                    l2 = sum(s2)\n",
    "                s3.append(l2)\n",
    "    return(s3)"
   ]
  },
  {
   "cell_type": "code",
   "execution_count": 11,
   "id": "e30b1857",
   "metadata": {},
   "outputs": [
    {
     "name": "stdout",
     "output_type": "stream",
     "text": [
      "[x3 + x4, x1 + x2, x3 + x4, x1 + x2, x3 + x4, x1 + x2, x3 + x4, x1 + x2, x3 + x4, x1 + x2, x3 + x4, x1 + x2, x3 + x4, x1 + x2, x3 + x4, x1 + x2, x3 + x4, x1 + x2, x3 + x4, x1 + x2, x3 + x4, x1 + x2, x3 + x4, x1 + x2, x3 + x4, x1 + x2, x3 + x4, x1 + x2, x3 + x4, x1 + x2, x3 + x4, x1 + x2, x3 + x4, x1 + x2, x3 + x4, x1 + x2, x3 + x4, x1 + x2, x3 + x4]\n"
     ]
    }
   ],
   "source": [
    "MN = Equations(Selecting(functionNm1(matrices(MA1,MA2,MA3,MA4))))\n",
    "print(MN)"
   ]
  },
  {
   "cell_type": "markdown",
   "id": "447af22c",
   "metadata": {},
   "source": [
    "# Left Nucleus"
   ]
  },
  {
   "cell_type": "code",
   "execution_count": 12,
   "id": "02cd0c39",
   "metadata": {},
   "outputs": [],
   "source": [
    "def functionNl1(A):\n",
    "    s1 = []\n",
    "    s2 = []\n",
    "    s3 = []\n",
    "    s4 = []\n",
    "    for i in range(len(A)):\n",
    "        for j in range(len(A)):\n",
    "            for s in range(len(A)):\n",
    "                for m in range(len(A)):\n",
    "                    for k in range(len(A)):\n",
    "                        s1.append(A[m][k,i]*A[k][s,j]- A[i][k,j]*A[m][s,k])                                  \n",
    "                    l1 = sum(s1)\n",
    "                    s2.append(l1*x[m])\n",
    "                    l2 = sum(s2)\n",
    "                s3.append(l2)\n",
    "    return(s3)"
   ]
  },
  {
   "cell_type": "code",
   "execution_count": 13,
   "id": "42cc09ad",
   "metadata": {},
   "outputs": [
    {
     "name": "stdout",
     "output_type": "stream",
     "text": [
      "[x2 + x3 + x4, x1, x2 + x3 + x4, x1, x2 + x3 + x4, x1, x2 + x3 + x4, x1, x2 + x3 + x4, x1, x2 + x3 + x4, x1, x2 + x3 + x4, x1, x2 + x3 + x4, x1, x2 + x3 + x4, x1, x2 + x3 + x4, x1, x2 + x3 + x4, x1, x2 + x3 + x4]\n"
     ]
    }
   ],
   "source": [
    "LN = Equations(Selecting(functionNl1(matrices(MA1,MA2,MA3,MA4))))\n",
    "print(LN)"
   ]
  },
  {
   "cell_type": "code",
   "execution_count": 14,
   "id": "2f821e88",
   "metadata": {},
   "outputs": [
    {
     "data": {
      "text/html": [
       "<pre style=\"word-wrap: normal;white-space: pre;background: #fff0;line-height: 1.1;font-family: &quot;Courier New&quot;,Courier,monospace\">       ┌───┐ ░                 ░       ░ ┌───┐ ░ ┌─┐         \n",
       "q30_0: ┤ H ├─░─────────────────░───■───░─┤ H ├─░─┤M├─────────\n",
       "       ├───┤ ░                 ░   │   ░ ├───┤ ░ └╥┘┌─┐      \n",
       "q30_1: ┤ H ├─░───■─────────────░───┼───░─┤ H ├─░──╫─┤M├──────\n",
       "       ├───┤ ░   │             ░   │   ░ ├───┤ ░  ║ └╥┘┌─┐   \n",
       "q30_2: ┤ H ├─░───┼────■────────░───┼───░─┤ H ├─░──╫──╫─┤M├───\n",
       "       ├───┤ ░   │    │        ░   │   ░ ├───┤ ░  ║  ║ └╥┘┌─┐\n",
       "q30_3: ┤ H ├─░───┼────┼────■───░───┼───░─┤ H ├─░──╫──╫──╫─┤M├\n",
       "       └───┘ ░ ┌─┴─┐┌─┴─┐┌─┴─┐ ░   │   ░ └───┘ ░  ║  ║  ║ └╥┘\n",
       "q30_4: ──────░─┤ X ├┤ X ├┤ X ├─░───┼───░───────░──╫──╫──╫──╫─\n",
       "             ░ └───┘└───┘└───┘ ░ ┌─┴─┐ ░       ░  ║  ║  ║  ║ \n",
       "q30_5: ──────░─────────────────░─┤ X ├─░───────░──╫──╫──╫──╫─\n",
       "             ░                 ░ └───┘ ░       ░  ║  ║  ║  ║ \n",
       " c2: 4/═══════════════════════════════════════════╩══╩══╩══╩═\n",
       "                                                  0  1  2  3 </pre>"
      ],
      "text/plain": [
       "       ┌───┐ ░                 ░       ░ ┌───┐ ░ ┌─┐         \n",
       "q30_0: ┤ H ├─░─────────────────░───■───░─┤ H ├─░─┤M├─────────\n",
       "       ├───┤ ░                 ░   │   ░ ├───┤ ░ └╥┘┌─┐      \n",
       "q30_1: ┤ H ├─░───■─────────────░───┼───░─┤ H ├─░──╫─┤M├──────\n",
       "       ├───┤ ░   │             ░   │   ░ ├───┤ ░  ║ └╥┘┌─┐   \n",
       "q30_2: ┤ H ├─░───┼────■────────░───┼───░─┤ H ├─░──╫──╫─┤M├───\n",
       "       ├───┤ ░   │    │        ░   │   ░ ├───┤ ░  ║  ║ └╥┘┌─┐\n",
       "q30_3: ┤ H ├─░───┼────┼────■───░───┼───░─┤ H ├─░──╫──╫──╫─┤M├\n",
       "       └───┘ ░ ┌─┴─┐┌─┴─┐┌─┴─┐ ░   │   ░ └───┘ ░  ║  ║  ║ └╥┘\n",
       "q30_4: ──────░─┤ X ├┤ X ├┤ X ├─░───┼───░───────░──╫──╫──╫──╫─\n",
       "             ░ └───┘└───┘└───┘ ░ ┌─┴─┐ ░       ░  ║  ║  ║  ║ \n",
       "q30_5: ──────░─────────────────░─┤ X ├─░───────░──╫──╫──╫──╫─\n",
       "             ░                 ░ └───┘ ░       ░  ║  ║  ║  ║ \n",
       " c2: 4/═══════════════════════════════════════════╩══╩══╩══╩═\n",
       "                                                  0  1  2  3 "
      ]
     },
     "execution_count": 14,
     "metadata": {},
     "output_type": "execute_result"
    }
   ],
   "source": [
    "qregln = QuantumRegister(6) \n",
    "cregln = ClassicalRegister(4)\n",
    "\n",
    "qcln1 = QuantumCircuit(qregln,cregln)\n",
    "\n",
    "qcln1.h(range(4))\n",
    "\n",
    "qcln1.barrier(qregln)\n",
    "\n",
    "qcln1.cx(qregln[1], qregln[4])\n",
    "qcln1.cx(qregln[2], qregln[4])\n",
    "qcln1.cx(qregln[3], qregln[4])\n",
    "qcln1.barrier(qregln)\n",
    "qcln1.cx(qregln[0], qregln[5])\n",
    "qcln1.barrier(qregln)\n",
    "qcln1.h(range(4))\n",
    "\n",
    "qcln1.barrier(qregln)\n",
    "\n",
    "for k in range(4):\n",
    "    qcln1.measure(qregln[k],cregln[k])\n",
    "\n",
    "qcln1.draw()"
   ]
  },
  {
   "cell_type": "code",
   "execution_count": 28,
   "id": "b074795d",
   "metadata": {},
   "outputs": [
    {
     "name": "stdout",
     "output_type": "stream",
     "text": [
      "{'1110': 1, '1111': 2, '0001': 5, '0000': 2}\n"
     ]
    },
    {
     "data": {
      "image/png": "[encoded data removed]",
      "text/plain": [
       "<Figure size 504x360 with 1 Axes>"
      ]
     },
     "execution_count": 28,
     "metadata": {},
     "output_type": "execute_result"
    }
   ],
   "source": [
    "transpiled_qcln1 = transpile(qcln1, aer_sim)\n",
    "qobjln1 = assemble(transpiled_qcln1)\n",
    "resultsln1 = aer_sim.run(qobjln1,shots = 10).result()\n",
    "countsln1 = resultsln1.get_counts()\n",
    "print(countsln1)\n",
    "plot_histogram(countsln1)"
   ]
  },
  {
   "cell_type": "markdown",
   "id": "ef37f4a1",
   "metadata": {},
   "source": [
    "# Nucleus"
   ]
  },
  {
   "cell_type": "code",
   "execution_count": 20,
   "id": "b9057d9d",
   "metadata": {},
   "outputs": [
    {
     "data": {
      "text/html": [
       "<pre style=\"word-wrap: normal;white-space: pre;background: #fff0;line-height: 1.1;font-family: &quot;Courier New&quot;,Courier,monospace\">       ┌───┐ ░            ░            ░                 ░      ┌───┐ ░ ┌─┐   »\n",
       "q87_0: ┤ H ├─░───■────────░────────────░─────────────────░───■──┤ H ├─░─┤M├───»\n",
       "       ├───┤ ░   │        ░            ░                 ░   │  ├───┤ ░ └╥┘┌─┐»\n",
       "q87_1: ┤ H ├─░───┼────■───░────────────░───■─────────────░───┼──┤ H ├─░──╫─┤M├»\n",
       "       ├───┤ ░   │    │   ░            ░   │             ░   │  ├───┤ ░  ║ └╥┘»\n",
       "q87_2: ┤ H ├─░───┼────┼───░───■────────░───┼────■────────░───┼──┤ H ├─░──╫──╫─»\n",
       "       ├───┤ ░   │    │   ░   │        ░   │    │        ░   │  ├───┤ ░  ║  ║ »\n",
       "q87_3: ┤ H ├─░───┼────┼───░───┼────■───░───┼────┼────■───░───┼──┤ H ├─░──╫──╫─»\n",
       "       └───┘ ░ ┌─┴─┐┌─┴─┐ ░   │    │   ░   │    │    │   ░   │  └───┘ ░  ║  ║ »\n",
       "q87_4: ──────░─┤ X ├┤ X ├─░───┼────┼───░───┼────┼────┼───░───┼────────░──╫──╫─»\n",
       "             ░ └───┘└───┘ ░ ┌─┴─┐┌─┴─┐ ░   │    │    │   ░   │        ░  ║  ║ »\n",
       "q87_5: ──────░────────────░─┤ X ├┤ X ├─░───┼────┼────┼───░───┼────────░──╫──╫─»\n",
       "             ░            ░ └───┘└───┘ ░ ┌─┴─┐┌─┴─┐┌─┴─┐ ░   │        ░  ║  ║ »\n",
       "q87_6: ──────░────────────░────────────░─┤ X ├┤ X ├┤ X ├─░───┼────────░──╫──╫─»\n",
       "             ░            ░            ░ └───┘└───┘└───┘ ░ ┌─┴─┐      ░  ║  ║ »\n",
       "q87_7: ──────░────────────░────────────░─────────────────░─┤ X ├──────░──╫──╫─»\n",
       "             ░            ░            ░                 ░ └───┘      ░  ║  ║ »\n",
       " c3: 4/══════════════════════════════════════════════════════════════════╩══╩═»\n",
       "                                                                         0  1 »\n",
       "«             \n",
       "«q87_0: ──────\n",
       "«             \n",
       "«q87_1: ──────\n",
       "«       ┌─┐   \n",
       "«q87_2: ┤M├───\n",
       "«       └╥┘┌─┐\n",
       "«q87_3: ─╫─┤M├\n",
       "«        ║ └╥┘\n",
       "«q87_4: ─╫──╫─\n",
       "«        ║  ║ \n",
       "«q87_5: ─╫──╫─\n",
       "«        ║  ║ \n",
       "«q87_6: ─╫──╫─\n",
       "«        ║  ║ \n",
       "«q87_7: ─╫──╫─\n",
       "«        ║  ║ \n",
       "« c3: 4/═╩══╩═\n",
       "«        2  3 </pre>"
      ],
      "text/plain": [
       "       ┌───┐ ░            ░            ░                 ░      ┌───┐ ░ ┌─┐   »\n",
       "q87_0: ┤ H ├─░───■────────░────────────░─────────────────░───■──┤ H ├─░─┤M├───»\n",
       "       ├───┤ ░   │        ░            ░                 ░   │  ├───┤ ░ └╥┘┌─┐»\n",
       "q87_1: ┤ H ├─░───┼────■───░────────────░───■─────────────░───┼──┤ H ├─░──╫─┤M├»\n",
       "       ├───┤ ░   │    │   ░            ░   │             ░   │  ├───┤ ░  ║ └╥┘»\n",
       "q87_2: ┤ H ├─░───┼────┼───░───■────────░───┼────■────────░───┼──┤ H ├─░──╫──╫─»\n",
       "       ├───┤ ░   │    │   ░   │        ░   │    │        ░   │  ├───┤ ░  ║  ║ »\n",
       "q87_3: ┤ H ├─░───┼────┼───░───┼────■───░───┼────┼────■───░───┼──┤ H ├─░──╫──╫─»\n",
       "       └───┘ ░ ┌─┴─┐┌─┴─┐ ░   │    │   ░   │    │    │   ░   │  └───┘ ░  ║  ║ »\n",
       "q87_4: ──────░─┤ X ├┤ X ├─░───┼────┼───░───┼────┼────┼───░───┼────────░──╫──╫─»\n",
       "             ░ └───┘└───┘ ░ ┌─┴─┐┌─┴─┐ ░   │    │    │   ░   │        ░  ║  ║ »\n",
       "q87_5: ──────░────────────░─┤ X ├┤ X ├─░───┼────┼────┼───░───┼────────░──╫──╫─»\n",
       "             ░            ░ └───┘└───┘ ░ ┌─┴─┐┌─┴─┐┌─┴─┐ ░   │        ░  ║  ║ »\n",
       "q87_6: ──────░────────────░────────────░─┤ X ├┤ X ├┤ X ├─░───┼────────░──╫──╫─»\n",
       "             ░            ░            ░ └───┘└───┘└───┘ ░ ┌─┴─┐      ░  ║  ║ »\n",
       "q87_7: ──────░────────────░────────────░─────────────────░─┤ X ├──────░──╫──╫─»\n",
       "             ░            ░            ░                 ░ └───┘      ░  ║  ║ »\n",
       " c3: 4/══════════════════════════════════════════════════════════════════╩══╩═»\n",
       "                                                                         0  1 »\n",
       "«             \n",
       "«q87_0: ──────\n",
       "«             \n",
       "«q87_1: ──────\n",
       "«       ┌─┐   \n",
       "«q87_2: ┤M├───\n",
       "«       └╥┘┌─┐\n",
       "«q87_3: ─╫─┤M├\n",
       "«        ║ └╥┘\n",
       "«q87_4: ─╫──╫─\n",
       "«        ║  ║ \n",
       "«q87_5: ─╫──╫─\n",
       "«        ║  ║ \n",
       "«q87_6: ─╫──╫─\n",
       "«        ║  ║ \n",
       "«q87_7: ─╫──╫─\n",
       "«        ║  ║ \n",
       "« c3: 4/═╩══╩═\n",
       "«        2  3 "
      ]
     },
     "execution_count": 20,
     "metadata": {},
     "output_type": "execute_result"
    }
   ],
   "source": [
    "qregn = QuantumRegister(8) \n",
    "cregn = ClassicalRegister(4)\n",
    "\n",
    "qcn = QuantumCircuit(qregn,cregn)\n",
    "\n",
    "qcn.h(range(4))\n",
    "\n",
    "###########################################\n",
    "qcn.barrier(qregn)\n",
    "###########################################\n",
    "\n",
    "qcn.cx(qregn[0], qregn[4])\n",
    "qcn.cx(qregn[1], qregn[4])\n",
    "#######################################\n",
    "qcn.barrier(qregn)\n",
    "###########################################\n",
    "qcn.cx(qregn[2], qregn[5])\n",
    "qcn.cx(qregn[3], qregn[5])\n",
    "###########################################\n",
    "qcn.barrier(qregn)\n",
    "###########################################\n",
    "qcn.cx(qregn[1], qregn[6])\n",
    "qcn.cx(qregn[2], qregn[6])\n",
    "qcn.cx(qregn[3], qregn[6])\n",
    "###########################################\n",
    "qcn.barrier(qregn)\n",
    "###########################################\n",
    "qcn.cx(qregn[0], qregn[7])\n",
    "\n",
    "qcn.h(range(4))\n",
    "\n",
    "###########################################\n",
    "qcn.barrier(qregn)\n",
    "###########################################\n",
    "\n",
    "for k in range(4):\n",
    "    qcn.measure(qregn[k],cregn[k])\n",
    "\n",
    "qcn.draw()"
   ]
  },
  {
   "cell_type": "code",
   "execution_count": 21,
   "id": "395463a8",
   "metadata": {},
   "outputs": [
    {
     "name": "stdout",
     "output_type": "stream",
     "text": [
      "{'1100': 3, '0011': 2, '0001': 2, '0010': 1, '1111': 1, '1110': 1}\n"
     ]
    },
    {
     "data": {
      "image/png": "[encoded data removed]",
      "text/plain": [
       "<Figure size 504x360 with 1 Axes>"
      ]
     },
     "execution_count": 21,
     "metadata": {},
     "output_type": "execute_result"
    }
   ],
   "source": [
    "transpiled_qcn = transpile(qcn, aer_sim)\n",
    "qobjn = assemble(transpiled_qcn)\n",
    "resultsn = aer_sim.run(qobjn,shots = 10).result()\n",
    "countsn = resultsn.get_counts()\n",
    "print(countsn)\n",
    "plot_histogram(countsn)"
   ]
  },
  {
   "cell_type": "markdown",
   "id": "aed697ac",
   "metadata": {},
   "source": [
    "# Center"
   ]
  },
  {
   "cell_type": "code",
   "execution_count": 22,
   "id": "958e625d",
   "metadata": {},
   "outputs": [],
   "source": [
    "from itertools import accumulate\n",
    "def functionZ(A):\n",
    "    s1 = []\n",
    "    s2 = []\n",
    "    for i in range(len(A)):\n",
    "        for k in range(len(A)):\n",
    "            for m in range(len(A)):\n",
    "                s1.append((A[m][k,i]- A[i][k,m])*x[m])                                \n",
    "    Input = s1\n",
    "    split = len(s1) / len(A)\n",
    "    length_to_split = [] \n",
    "    for i in range(int(split)):\n",
    "          length_to_split.append(len(A))\n",
    "    Output = [Input[x - y: x] for x, y in zip(accumulate(length_to_split), length_to_split)]\n",
    "    s4 = []\n",
    "    for i in range(len(Output)):\n",
    "        s3 = sum(Output[i])\n",
    "        s4.append(s3)\n",
    "    return(s4)"
   ]
  },
  {
   "cell_type": "code",
   "execution_count": 23,
   "id": "f830a3e1",
   "metadata": {},
   "outputs": [
    {
     "data": {
      "text/plain": [
       "[0, 0, 0, 0, 0, -x3, 0, 0, 0, x2, 0, 0, 0, 0, 0, 0]"
      ]
     },
     "execution_count": 23,
     "metadata": {},
     "output_type": "execute_result"
    }
   ],
   "source": [
    "functionZ(matrices(MA1,MA2,MA3,MA4))"
   ]
  },
  {
   "cell_type": "code",
   "execution_count": 24,
   "id": "e36c25e5",
   "metadata": {},
   "outputs": [
    {
     "data": {
      "text/html": [
       "<pre style=\"word-wrap: normal;white-space: pre;background: #fff0;line-height: 1.1;font-family: &quot;Courier New&quot;,Courier,monospace\">        ┌───┐ ░            ░            ░                 ░       ░           »\n",
       "q102_0: ┤ H ├─░───■────────░────────────░─────────────────░───■───░───────────»\n",
       "        ├───┤ ░   │        ░            ░                 ░   │   ░           »\n",
       "q102_1: ┤ H ├─░───┼────■───░────────────░───■─────────────░───┼───░────────■──»\n",
       "        ├───┤ ░   │    │   ░            ░   │             ░   │   ░        │  »\n",
       "q102_2: ┤ H ├─░───┼────┼───░───■────────░───┼────■────────░───┼───░───■────┼──»\n",
       "        ├───┤ ░   │    │   ░   │        ░   │    │        ░   │   ░   │    │  »\n",
       "q102_3: ┤ H ├─░───┼────┼───░───┼────■───░───┼────┼────■───░───┼───░───┼────┼──»\n",
       "        └───┘ ░ ┌─┴─┐┌─┴─┐ ░   │    │   ░   │    │    │   ░   │   ░   │    │  »\n",
       "q102_4: ──────░─┤ X ├┤ X ├─░───┼────┼───░───┼────┼────┼───░───┼───░───┼────┼──»\n",
       "              ░ └───┘└───┘ ░ ┌─┴─┐┌─┴─┐ ░   │    │    │   ░   │   ░   │    │  »\n",
       "q102_5: ──────░────────────░─┤ X ├┤ X ├─░───┼────┼────┼───░───┼───░───┼────┼──»\n",
       "              ░            ░ └───┘└───┘ ░ ┌─┴─┐┌─┴─┐┌─┴─┐ ░   │   ░   │    │  »\n",
       "q102_6: ──────░────────────░────────────░─┤ X ├┤ X ├┤ X ├─░───┼───░───┼────┼──»\n",
       "              ░            ░            ░ └───┘└───┘└───┘ ░ ┌─┴─┐ ░   │    │  »\n",
       "q102_7: ──────░────────────░────────────░─────────────────░─┤ X ├─░───┼────┼──»\n",
       "              ░            ░            ░                 ░ └───┘ ░ ┌─┴─┐  │  »\n",
       "q102_8: ──────░────────────░────────────░─────────────────░───────░─┤ X ├──┼──»\n",
       "              ░            ░            ░                 ░       ░ └───┘┌─┴─┐»\n",
       "q102_9: ──────░────────────░────────────░─────────────────░───────░──────┤ X ├»\n",
       "              ░            ░            ░                 ░       ░      └───┘»\n",
       "  c4: 4/══════════════════════════════════════════════════════════════════════»\n",
       "                                                                              »\n",
       "«         ░ ┌───┐ ░ ┌─┐         \n",
       "«q102_0: ─░─┤ H ├─░─┤M├─────────\n",
       "«         ░ ├───┤ ░ └╥┘┌─┐      \n",
       "«q102_1: ─░─┤ H ├─░──╫─┤M├──────\n",
       "«         ░ ├───┤ ░  ║ └╥┘┌─┐   \n",
       "«q102_2: ─░─┤ H ├─░──╫──╫─┤M├───\n",
       "«         ░ ├───┤ ░  ║  ║ └╥┘┌─┐\n",
       "«q102_3: ─░─┤ H ├─░──╫──╫──╫─┤M├\n",
       "«         ░ └───┘ ░  ║  ║  ║ └╥┘\n",
       "«q102_4: ─░───────░──╫──╫──╫──╫─\n",
       "«         ░       ░  ║  ║  ║  ║ \n",
       "«q102_5: ─░───────░──╫──╫──╫──╫─\n",
       "«         ░       ░  ║  ║  ║  ║ \n",
       "«q102_6: ─░───────░──╫──╫──╫──╫─\n",
       "«         ░       ░  ║  ║  ║  ║ \n",
       "«q102_7: ─░───────░──╫──╫──╫──╫─\n",
       "«         ░       ░  ║  ║  ║  ║ \n",
       "«q102_8: ─░───────░──╫──╫──╫──╫─\n",
       "«         ░       ░  ║  ║  ║  ║ \n",
       "«q102_9: ─░───────░──╫──╫──╫──╫─\n",
       "«         ░       ░  ║  ║  ║  ║ \n",
       "«  c4: 4/════════════╩══╩══╩══╩═\n",
       "«                    0  1  2  3 </pre>"
      ],
      "text/plain": [
       "        ┌───┐ ░            ░            ░                 ░       ░           »\n",
       "q102_0: ┤ H ├─░───■────────░────────────░─────────────────░───■───░───────────»\n",
       "        ├───┤ ░   │        ░            ░                 ░   │   ░           »\n",
       "q102_1: ┤ H ├─░───┼────■───░────────────░───■─────────────░───┼───░────────■──»\n",
       "        ├───┤ ░   │    │   ░            ░   │             ░   │   ░        │  »\n",
       "q102_2: ┤ H ├─░───┼────┼───░───■────────░───┼────■────────░───┼───░───■────┼──»\n",
       "        ├───┤ ░   │    │   ░   │        ░   │    │        ░   │   ░   │    │  »\n",
       "q102_3: ┤ H ├─░───┼────┼───░───┼────■───░───┼────┼────■───░───┼───░───┼────┼──»\n",
       "        └───┘ ░ ┌─┴─┐┌─┴─┐ ░   │    │   ░   │    │    │   ░   │   ░   │    │  »\n",
       "q102_4: ──────░─┤ X ├┤ X ├─░───┼────┼───░───┼────┼────┼───░───┼───░───┼────┼──»\n",
       "              ░ └───┘└───┘ ░ ┌─┴─┐┌─┴─┐ ░   │    │    │   ░   │   ░   │    │  »\n",
       "q102_5: ──────░────────────░─┤ X ├┤ X ├─░───┼────┼────┼───░───┼───░───┼────┼──»\n",
       "              ░            ░ └───┘└───┘ ░ ┌─┴─┐┌─┴─┐┌─┴─┐ ░   │   ░   │    │  »\n",
       "q102_6: ──────░────────────░────────────░─┤ X ├┤ X ├┤ X ├─░───┼───░───┼────┼──»\n",
       "              ░            ░            ░ └───┘└───┘└───┘ ░ ┌─┴─┐ ░   │    │  »\n",
       "q102_7: ──────░────────────░────────────░─────────────────░─┤ X ├─░───┼────┼──»\n",
       "              ░            ░            ░                 ░ └───┘ ░ ┌─┴─┐  │  »\n",
       "q102_8: ──────░────────────░────────────░─────────────────░───────░─┤ X ├──┼──»\n",
       "              ░            ░            ░                 ░       ░ └───┘┌─┴─┐»\n",
       "q102_9: ──────░────────────░────────────░─────────────────░───────░──────┤ X ├»\n",
       "              ░            ░            ░                 ░       ░      └───┘»\n",
       "  c4: 4/══════════════════════════════════════════════════════════════════════»\n",
       "                                                                              »\n",
       "«         ░ ┌───┐ ░ ┌─┐         \n",
       "«q102_0: ─░─┤ H ├─░─┤M├─────────\n",
       "«         ░ ├───┤ ░ └╥┘┌─┐      \n",
       "«q102_1: ─░─┤ H ├─░──╫─┤M├──────\n",
       "«         ░ ├───┤ ░  ║ └╥┘┌─┐   \n",
       "«q102_2: ─░─┤ H ├─░──╫──╫─┤M├───\n",
       "«         ░ ├───┤ ░  ║  ║ └╥┘┌─┐\n",
       "«q102_3: ─░─┤ H ├─░──╫──╫──╫─┤M├\n",
       "«         ░ └───┘ ░  ║  ║  ║ └╥┘\n",
       "«q102_4: ─░───────░──╫──╫──╫──╫─\n",
       "«         ░       ░  ║  ║  ║  ║ \n",
       "«q102_5: ─░───────░──╫──╫──╫──╫─\n",
       "«         ░       ░  ║  ║  ║  ║ \n",
       "«q102_6: ─░───────░──╫──╫──╫──╫─\n",
       "«         ░       ░  ║  ║  ║  ║ \n",
       "«q102_7: ─░───────░──╫──╫──╫──╫─\n",
       "«         ░       ░  ║  ║  ║  ║ \n",
       "«q102_8: ─░───────░──╫──╫──╫──╫─\n",
       "«         ░       ░  ║  ║  ║  ║ \n",
       "«q102_9: ─░───────░──╫──╫──╫──╫─\n",
       "«         ░       ░  ║  ║  ║  ║ \n",
       "«  c4: 4/════════════╩══╩══╩══╩═\n",
       "«                    0  1  2  3 "
      ]
     },
     "execution_count": 24,
     "metadata": {},
     "output_type": "execute_result"
    }
   ],
   "source": [
    "qregc = QuantumRegister(10) \n",
    "cregc = ClassicalRegister(4)\n",
    "\n",
    "qcc = QuantumCircuit(qregc,cregc)\n",
    "\n",
    "qcc.h(range(4))\n",
    "\n",
    "###########################################\n",
    "qcc.barrier(qregc)\n",
    "###########################################\n",
    "\n",
    "qcc.cx(qregc[0], qregc[4])\n",
    "qcc.cx(qregc[1], qregc[4])\n",
    "#######################################\n",
    "qcc.barrier(qregc)\n",
    "###########################################\n",
    "qcc.cx(qregc[2], qregc[5])\n",
    "qcc.cx(qregc[3], qregc[5])\n",
    "###########################################\n",
    "qcc.barrier(qregc)\n",
    "###########################################\n",
    "qcc.cx(qregc[1], qregc[6])\n",
    "qcc.cx(qregc[2], qregc[6])\n",
    "qcc.cx(qregc[3], qregc[6])\n",
    "###########################################\n",
    "qcc.barrier(qregc)\n",
    "###########################################\n",
    "qcc.cx(qregc[0], qregc[7])\n",
    "###########################################\n",
    "qcc.barrier(qregc)\n",
    "###########################################\n",
    "qcc.cx(qregc[2],qregc[8])\n",
    "qcc.cx(qregc[1],qregc[9])\n",
    "###########################################\n",
    "qcc.barrier(qregc)\n",
    "###########################################\n",
    "qcc.h(range(4))\n",
    "###########################################\n",
    "qcc.barrier(qregc)\n",
    "###########################################\n",
    "for k in range(4):\n",
    "    qcc.measure(qregc[k],cregc[k])\n",
    "qcc.draw() \n"
   ]
  },
  {
   "cell_type": "code",
   "execution_count": 27,
   "id": "c08110d1",
   "metadata": {},
   "outputs": [
    {
     "name": "stdout",
     "output_type": "stream",
     "text": [
      "{'0000': 4, '0010': 3, '1100': 2, '0011': 3, '1110': 3, '1101': 3, '0001': 1, '1111': 1}\n"
     ]
    },
    {
     "data": {
      "image/png": "[encoded data removed]",
      "text/plain": [
       "<Figure size 504x360 with 1 Axes>"
      ]
     },
     "execution_count": 27,
     "metadata": {},
     "output_type": "execute_result"
    }
   ],
   "source": [
    "transpiled_qcc = transpile(qcc, aer_sim)\n",
    "qobjc = assemble(transpiled_qcc)\n",
    "resultsc = aer_sim.run(qobjn,shots = 20).result()\n",
    "countsc = resultsc.get_counts()\n",
    "print(countsc)\n",
    "plot_histogram(countsc)"
   ]
  },
  {
   "cell_type": "code",
   "execution_count": null,
   "id": "b5625190",
   "metadata": {},
   "outputs": [],
   "source": []
  }
 ],
 "metadata": {
  "kernelspec": {
   "display_name": "Python 3 (ipykernel)",
   "language": "python",
   "name": "python3"
  },
  "language_info": {
   "codemirror_mode": {
    "name": "ipython",
    "version": 3
   },
   "file_extension": ".py",
   "mimetype": "text/x-python",
   "name": "python",
   "nbconvert_exporter": "python",
   "pygments_lexer": "ipython3",
   "version": "3.9.7"
  }
 },
 "nbformat": 4,
 "nbformat_minor": 5
}
